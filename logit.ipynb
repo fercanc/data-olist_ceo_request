{
 "cells": [
  {
   "cell_type": "code",
   "execution_count": 1,
   "metadata": {},
   "outputs": [],
   "source": [
    "%load_ext autoreload\n",
    "%autoreload 2"
   ]
  },
  {
   "cell_type": "markdown",
   "metadata": {},
   "source": [
    "# `Logit` on Orders - A warm-up challenge (~1h)"
   ]
  },
  {
   "cell_type": "markdown",
   "metadata": {},
   "source": [
    "## Select features"
   ]
  },
  {
   "cell_type": "markdown",
   "metadata": {},
   "source": [
    "🎯 Let's figure out the impact of `wait_time` and `delay_vs_expected` on very `good/bad reviews`\n",
    "\n",
    "👉 Using our `orders` training_set, we will run two `multivariate logistic regressions`:\n",
    "- `logit_one` to predict `dim_is_one_star` \n",
    "- `logit_five` to predict `dim_is_five_star`.\n",
    "\n",
    " "
   ]
  },
  {
   "cell_type": "code",
   "execution_count": 2,
   "metadata": {},
   "outputs": [],
   "source": [
    "import pandas as pd\n",
    "import seaborn as sns\n",
    "import statsmodels.api as sm\n",
    "import statsmodels.formula.api as smf\n",
    "import matplotlib.pyplot as plt"
   ]
  },
  {
   "cell_type": "markdown",
   "metadata": {},
   "source": [
    "👉 Import your dataset:"
   ]
  },
  {
   "cell_type": "code",
   "execution_count": 3,
   "metadata": {},
   "outputs": [
    {
     "name": "stderr",
     "output_type": "stream",
     "text": [
      "/Users/fercancercel/code/fercanc/data-context-and-setup/olist/order.py:29: SettingWithCopyWarning: \n",
      "A value is trying to be set on a copy of a slice from a DataFrame.\n",
      "Try using .loc[row_indexer,col_indexer] = value instead\n",
      "\n",
      "See the caveats in the documentation: https://pandas.pydata.org/pandas-docs/stable/user_guide/indexing.html#returning-a-view-versus-a-copy\n",
      "  orders['order_purchase_timestamp'] = pd.to_datetime(orders['order_purchase_timestamp'])\n",
      "/Users/fercancercel/code/fercanc/data-context-and-setup/olist/order.py:32: SettingWithCopyWarning: \n",
      "A value is trying to be set on a copy of a slice from a DataFrame.\n",
      "Try using .loc[row_indexer,col_indexer] = value instead\n",
      "\n",
      "See the caveats in the documentation: https://pandas.pydata.org/pandas-docs/stable/user_guide/indexing.html#returning-a-view-versus-a-copy\n",
      "  orders['order_delivered_customer_date'] = pd.to_datetime(orders['order_delivered_customer_date'])\n",
      "/Users/fercancercel/code/fercanc/data-context-and-setup/olist/order.py:33: SettingWithCopyWarning: \n",
      "A value is trying to be set on a copy of a slice from a DataFrame.\n",
      "Try using .loc[row_indexer,col_indexer] = value instead\n",
      "\n",
      "See the caveats in the documentation: https://pandas.pydata.org/pandas-docs/stable/user_guide/indexing.html#returning-a-view-versus-a-copy\n",
      "  orders['order_estimated_delivery_date'] = pd.to_datetime(orders['order_estimated_delivery_date'])\n",
      "/Users/fercancercel/code/fercanc/data-context-and-setup/olist/order.py:35: SettingWithCopyWarning: \n",
      "A value is trying to be set on a copy of a slice from a DataFrame.\n",
      "Try using .loc[row_indexer,col_indexer] = value instead\n",
      "\n",
      "See the caveats in the documentation: https://pandas.pydata.org/pandas-docs/stable/user_guide/indexing.html#returning-a-view-versus-a-copy\n",
      "  orders.loc[:, 'wait_time'] = (orders['order_delivered_customer_date'] - orders['order_purchase_timestamp']) / np.timedelta64(24 , 'h')\n",
      "/Users/fercancercel/code/fercanc/data-context-and-setup/olist/order.py:36: SettingWithCopyWarning: \n",
      "A value is trying to be set on a copy of a slice from a DataFrame.\n",
      "Try using .loc[row_indexer,col_indexer] = value instead\n",
      "\n",
      "See the caveats in the documentation: https://pandas.pydata.org/pandas-docs/stable/user_guide/indexing.html#returning-a-view-versus-a-copy\n",
      "  orders.loc[:, 'expected_wait_time'] = (orders['order_estimated_delivery_date'] - orders['order_purchase_timestamp']) / np.timedelta64(24 , 'h')\n",
      "/Users/fercancercel/code/fercanc/data-context-and-setup/olist/order.py:37: SettingWithCopyWarning: \n",
      "A value is trying to be set on a copy of a slice from a DataFrame.\n",
      "Try using .loc[row_indexer,col_indexer] = value instead\n",
      "\n",
      "See the caveats in the documentation: https://pandas.pydata.org/pandas-docs/stable/user_guide/indexing.html#returning-a-view-versus-a-copy\n",
      "  orders.loc[:, 'delay_vs_expected'] = (orders['order_delivered_customer_date'] - orders['order_estimated_delivery_date']) / np.timedelta64(24, 'h')\n",
      "/Users/fercancercel/code/fercanc/data-context-and-setup/olist/order.py:47: SettingWithCopyWarning: \n",
      "A value is trying to be set on a copy of a slice from a DataFrame.\n",
      "Try using .loc[row_indexer,col_indexer] = value instead\n",
      "\n",
      "See the caveats in the documentation: https://pandas.pydata.org/pandas-docs/stable/user_guide/indexing.html#returning-a-view-versus-a-copy\n",
      "  orders.loc[:,'delay_vs_expected'] = orders['delay_vs_expected'].apply(handle_delay)\n"
     ]
    }
   ],
   "source": [
    "from olist.order import Order\n",
    "orders = Order().get_training_data(with_distance_seller_customer=True)"
   ]
  },
  {
   "cell_type": "markdown",
   "metadata": {},
   "source": [
    "👉 Select in a list which features you want to use:\n",
    "\n",
    "⚠️ Make sure you are not creating data leakage (i.e. selecting features that are derived from the target)\n",
    "\n",
    "💡 To figure out the impact of `wait_time` and `delay_vs_expected` we need to control for the impact of other features, include in your list all features that may be relevant"
   ]
  },
  {
   "cell_type": "code",
   "execution_count": 20,
   "metadata": {
    "tags": [
     "challengify"
    ]
   },
   "outputs": [
    {
     "data": {
      "text/html": [
       "<div>\n",
       "<style scoped>\n",
       "    .dataframe tbody tr th:only-of-type {\n",
       "        vertical-align: middle;\n",
       "    }\n",
       "\n",
       "    .dataframe tbody tr th {\n",
       "        vertical-align: top;\n",
       "    }\n",
       "\n",
       "    .dataframe thead th {\n",
       "        text-align: right;\n",
       "    }\n",
       "</style>\n",
       "<table border=\"1\" class=\"dataframe\">\n",
       "  <thead>\n",
       "    <tr style=\"text-align: right;\">\n",
       "      <th></th>\n",
       "      <th>order_id</th>\n",
       "      <th>wait_time</th>\n",
       "      <th>delay_vs_expected</th>\n",
       "      <th>review_score</th>\n",
       "      <th>number_of_sellers</th>\n",
       "      <th>price</th>\n",
       "      <th>freight_value</th>\n",
       "    </tr>\n",
       "  </thead>\n",
       "  <tbody>\n",
       "    <tr>\n",
       "      <th>0</th>\n",
       "      <td>e481f51cbdc54678b7cc49136f2d6af7</td>\n",
       "      <td>8.436574</td>\n",
       "      <td>0.0</td>\n",
       "      <td>4</td>\n",
       "      <td>1</td>\n",
       "      <td>29.99</td>\n",
       "      <td>8.72</td>\n",
       "    </tr>\n",
       "    <tr>\n",
       "      <th>1</th>\n",
       "      <td>53cdb2fc8bc7dce0b6741e2150273451</td>\n",
       "      <td>13.782037</td>\n",
       "      <td>0.0</td>\n",
       "      <td>4</td>\n",
       "      <td>1</td>\n",
       "      <td>118.70</td>\n",
       "      <td>22.76</td>\n",
       "    </tr>\n",
       "    <tr>\n",
       "      <th>2</th>\n",
       "      <td>47770eb9100c2d0c44946d9cf07ec65d</td>\n",
       "      <td>9.394213</td>\n",
       "      <td>0.0</td>\n",
       "      <td>5</td>\n",
       "      <td>1</td>\n",
       "      <td>159.90</td>\n",
       "      <td>19.22</td>\n",
       "    </tr>\n",
       "    <tr>\n",
       "      <th>3</th>\n",
       "      <td>949d5b44dbf5de918fe9c16f97b45f8a</td>\n",
       "      <td>13.208750</td>\n",
       "      <td>0.0</td>\n",
       "      <td>5</td>\n",
       "      <td>1</td>\n",
       "      <td>45.00</td>\n",
       "      <td>27.20</td>\n",
       "    </tr>\n",
       "    <tr>\n",
       "      <th>4</th>\n",
       "      <td>ad21c59c0840e6cb83a9ceb5573f8159</td>\n",
       "      <td>2.873877</td>\n",
       "      <td>0.0</td>\n",
       "      <td>5</td>\n",
       "      <td>1</td>\n",
       "      <td>19.90</td>\n",
       "      <td>8.72</td>\n",
       "    </tr>\n",
       "    <tr>\n",
       "      <th>...</th>\n",
       "      <td>...</td>\n",
       "      <td>...</td>\n",
       "      <td>...</td>\n",
       "      <td>...</td>\n",
       "      <td>...</td>\n",
       "      <td>...</td>\n",
       "      <td>...</td>\n",
       "    </tr>\n",
       "    <tr>\n",
       "      <th>95875</th>\n",
       "      <td>9c5dedf39a927c1b2549525ed64a053c</td>\n",
       "      <td>8.218009</td>\n",
       "      <td>0.0</td>\n",
       "      <td>5</td>\n",
       "      <td>1</td>\n",
       "      <td>72.00</td>\n",
       "      <td>13.08</td>\n",
       "    </tr>\n",
       "    <tr>\n",
       "      <th>95876</th>\n",
       "      <td>63943bddc261676b46f01ca7ac2f7bd8</td>\n",
       "      <td>22.193727</td>\n",
       "      <td>0.0</td>\n",
       "      <td>4</td>\n",
       "      <td>1</td>\n",
       "      <td>174.90</td>\n",
       "      <td>20.10</td>\n",
       "    </tr>\n",
       "    <tr>\n",
       "      <th>95877</th>\n",
       "      <td>83c1379a015df1e13d02aae0204711ab</td>\n",
       "      <td>24.859421</td>\n",
       "      <td>0.0</td>\n",
       "      <td>5</td>\n",
       "      <td>1</td>\n",
       "      <td>205.99</td>\n",
       "      <td>65.02</td>\n",
       "    </tr>\n",
       "    <tr>\n",
       "      <th>95878</th>\n",
       "      <td>11c177c8e97725db2631073c19f07b62</td>\n",
       "      <td>17.086424</td>\n",
       "      <td>0.0</td>\n",
       "      <td>2</td>\n",
       "      <td>1</td>\n",
       "      <td>359.98</td>\n",
       "      <td>81.18</td>\n",
       "    </tr>\n",
       "    <tr>\n",
       "      <th>95879</th>\n",
       "      <td>66dea50a8b16d9b4dee7af250b4be1a5</td>\n",
       "      <td>7.674306</td>\n",
       "      <td>0.0</td>\n",
       "      <td>5</td>\n",
       "      <td>1</td>\n",
       "      <td>68.50</td>\n",
       "      <td>18.36</td>\n",
       "    </tr>\n",
       "  </tbody>\n",
       "</table>\n",
       "<p>95872 rows × 7 columns</p>\n",
       "</div>"
      ],
      "text/plain": [
       "                               order_id  wait_time  delay_vs_expected  \\\n",
       "0      e481f51cbdc54678b7cc49136f2d6af7   8.436574                0.0   \n",
       "1      53cdb2fc8bc7dce0b6741e2150273451  13.782037                0.0   \n",
       "2      47770eb9100c2d0c44946d9cf07ec65d   9.394213                0.0   \n",
       "3      949d5b44dbf5de918fe9c16f97b45f8a  13.208750                0.0   \n",
       "4      ad21c59c0840e6cb83a9ceb5573f8159   2.873877                0.0   \n",
       "...                                 ...        ...                ...   \n",
       "95875  9c5dedf39a927c1b2549525ed64a053c   8.218009                0.0   \n",
       "95876  63943bddc261676b46f01ca7ac2f7bd8  22.193727                0.0   \n",
       "95877  83c1379a015df1e13d02aae0204711ab  24.859421                0.0   \n",
       "95878  11c177c8e97725db2631073c19f07b62  17.086424                0.0   \n",
       "95879  66dea50a8b16d9b4dee7af250b4be1a5   7.674306                0.0   \n",
       "\n",
       "       review_score  number_of_sellers   price  freight_value  \n",
       "0                 4                  1   29.99           8.72  \n",
       "1                 4                  1  118.70          22.76  \n",
       "2                 5                  1  159.90          19.22  \n",
       "3                 5                  1   45.00          27.20  \n",
       "4                 5                  1   19.90           8.72  \n",
       "...             ...                ...     ...            ...  \n",
       "95875             5                  1   72.00          13.08  \n",
       "95876             4                  1  174.90          20.10  \n",
       "95877             5                  1  205.99          65.02  \n",
       "95878             2                  1  359.98          81.18  \n",
       "95879             5                  1   68.50          18.36  \n",
       "\n",
       "[95872 rows x 7 columns]"
      ]
     },
     "execution_count": 20,
     "metadata": {},
     "output_type": "execute_result"
    }
   ],
   "source": [
    "# YOUR CODE HERE\n",
    "values = orders[[\"order_id\",\"wait_time\",\"delay_vs_expected\", \"review_score\",\"number_of_sellers\",\"price\",\"freight_value\"]]\n",
    "values"
   ]
  },
  {
   "cell_type": "markdown",
   "metadata": {},
   "source": [
    "🕵🏻 Check the `multi-colinearity` of your features, using the `VIF index`.\n",
    "\n",
    "* It shouldn't be too high (< 10 preferably) to ensure that we can trust the partial regression coefficents and their associated `p-values` \n",
    "* Do not forget to standardize your data ! \n",
    "    * A `VIF Analysis` is made by regressing a feature vs. the other features...\n",
    "    * So you want to `remove the effect of scale` so that your features have an equal importance before running any linear regression!\n",
    "    \n",
    "    \n",
    "📚 <a href=\"https://www.statisticshowto.com/variance-inflation-factor/\">Statistics How To - Variance Inflation Factor</a>\n",
    "\n",
    "📚  <a href=\"https://online.stat.psu.edu/stat462/node/180/\">PennState - Detecting Multicollinearity Using Variance Inflation Factors</a>"
   ]
  },
  {
   "cell_type": "markdown",
   "metadata": {},
   "source": [
    "⚖️ Standardizing:"
   ]
  },
  {
   "cell_type": "code",
   "execution_count": 47,
   "metadata": {
    "tags": [
     "challengify"
    ]
   },
   "outputs": [
    {
     "name": "stderr",
     "output_type": "stream",
     "text": [
      "/var/folders/kg/6qqrzjg91x5d3tq16qx18m2w0000gn/T/ipykernel_4237/1404154253.py:7: SettingWithCopyWarning: \n",
      "A value is trying to be set on a copy of a slice from a DataFrame.\n",
      "Try using .loc[row_indexer,col_indexer] = value instead\n",
      "\n",
      "See the caveats in the documentation: https://pandas.pydata.org/pandas-docs/stable/user_guide/indexing.html#returning-a-view-versus-a-copy\n",
      "  values[f]=values[f].map(lambda x: (x-mean)/std)\n",
      "/var/folders/kg/6qqrzjg91x5d3tq16qx18m2w0000gn/T/ipykernel_4237/1404154253.py:9: SettingWithCopyWarning: \n",
      "A value is trying to be set on a copy of a slice from a DataFrame.\n",
      "Try using .loc[row_indexer,col_indexer] = value instead\n",
      "\n",
      "See the caveats in the documentation: https://pandas.pydata.org/pandas-docs/stable/user_guide/indexing.html#returning-a-view-versus-a-copy\n",
      "  values[\"dim_is_one_star\"] = orders['dim_is_one_star']\n",
      "/var/folders/kg/6qqrzjg91x5d3tq16qx18m2w0000gn/T/ipykernel_4237/1404154253.py:10: SettingWithCopyWarning: \n",
      "A value is trying to be set on a copy of a slice from a DataFrame.\n",
      "Try using .loc[row_indexer,col_indexer] = value instead\n",
      "\n",
      "See the caveats in the documentation: https://pandas.pydata.org/pandas-docs/stable/user_guide/indexing.html#returning-a-view-versus-a-copy\n",
      "  values[\"dim_is_five_star\"] = orders[\"dim_is_five_star\"]\n"
     ]
    },
    {
     "data": {
      "text/html": [
       "<div>\n",
       "<style scoped>\n",
       "    .dataframe tbody tr th:only-of-type {\n",
       "        vertical-align: middle;\n",
       "    }\n",
       "\n",
       "    .dataframe tbody tr th {\n",
       "        vertical-align: top;\n",
       "    }\n",
       "\n",
       "    .dataframe thead th {\n",
       "        text-align: right;\n",
       "    }\n",
       "</style>\n",
       "<table border=\"1\" class=\"dataframe\">\n",
       "  <thead>\n",
       "    <tr style=\"text-align: right;\">\n",
       "      <th></th>\n",
       "      <th>wait_time</th>\n",
       "      <th>delay_vs_expected</th>\n",
       "      <th>review_score</th>\n",
       "      <th>number_of_sellers</th>\n",
       "      <th>price</th>\n",
       "      <th>freight_value</th>\n",
       "      <th>dim_is_one_star</th>\n",
       "      <th>dim_is_five_star</th>\n",
       "    </tr>\n",
       "  </thead>\n",
       "  <tbody>\n",
       "    <tr>\n",
       "      <th>0</th>\n",
       "      <td>-0.431192</td>\n",
       "      <td>-0.161781</td>\n",
       "      <td>-0.121008</td>\n",
       "      <td>-0.112544</td>\n",
       "      <td>-0.513802</td>\n",
       "      <td>-0.652038</td>\n",
       "      <td>0</td>\n",
       "      <td>0</td>\n",
       "    </tr>\n",
       "    <tr>\n",
       "      <th>1</th>\n",
       "      <td>0.134174</td>\n",
       "      <td>-0.161781</td>\n",
       "      <td>-0.121008</td>\n",
       "      <td>-0.112544</td>\n",
       "      <td>-0.086640</td>\n",
       "      <td>0.000467</td>\n",
       "      <td>0</td>\n",
       "      <td>0</td>\n",
       "    </tr>\n",
       "    <tr>\n",
       "      <th>2</th>\n",
       "      <td>-0.329907</td>\n",
       "      <td>-0.161781</td>\n",
       "      <td>0.657133</td>\n",
       "      <td>-0.112544</td>\n",
       "      <td>0.111748</td>\n",
       "      <td>-0.164053</td>\n",
       "      <td>0</td>\n",
       "      <td>1</td>\n",
       "    </tr>\n",
       "    <tr>\n",
       "      <th>3</th>\n",
       "      <td>0.073540</td>\n",
       "      <td>-0.161781</td>\n",
       "      <td>0.657133</td>\n",
       "      <td>-0.112544</td>\n",
       "      <td>-0.441525</td>\n",
       "      <td>0.206815</td>\n",
       "      <td>0</td>\n",
       "      <td>1</td>\n",
       "    </tr>\n",
       "    <tr>\n",
       "      <th>4</th>\n",
       "      <td>-1.019535</td>\n",
       "      <td>-0.161781</td>\n",
       "      <td>0.657133</td>\n",
       "      <td>-0.112544</td>\n",
       "      <td>-0.562388</td>\n",
       "      <td>-0.652038</td>\n",
       "      <td>0</td>\n",
       "      <td>1</td>\n",
       "    </tr>\n",
       "    <tr>\n",
       "      <th>...</th>\n",
       "      <td>...</td>\n",
       "      <td>...</td>\n",
       "      <td>...</td>\n",
       "      <td>...</td>\n",
       "      <td>...</td>\n",
       "      <td>...</td>\n",
       "      <td>...</td>\n",
       "      <td>...</td>\n",
       "    </tr>\n",
       "    <tr>\n",
       "      <th>95875</th>\n",
       "      <td>-0.454309</td>\n",
       "      <td>-0.161781</td>\n",
       "      <td>0.657133</td>\n",
       "      <td>-0.112544</td>\n",
       "      <td>-0.311513</td>\n",
       "      <td>-0.449408</td>\n",
       "      <td>0</td>\n",
       "      <td>1</td>\n",
       "    </tr>\n",
       "    <tr>\n",
       "      <th>95876</th>\n",
       "      <td>1.023841</td>\n",
       "      <td>-0.161781</td>\n",
       "      <td>-0.121008</td>\n",
       "      <td>-0.112544</td>\n",
       "      <td>0.183977</td>\n",
       "      <td>-0.123156</td>\n",
       "      <td>0</td>\n",
       "      <td>0</td>\n",
       "    </tr>\n",
       "    <tr>\n",
       "      <th>95877</th>\n",
       "      <td>1.305780</td>\n",
       "      <td>-0.161781</td>\n",
       "      <td>0.657133</td>\n",
       "      <td>-0.112544</td>\n",
       "      <td>0.333684</td>\n",
       "      <td>1.964490</td>\n",
       "      <td>0</td>\n",
       "      <td>1</td>\n",
       "    </tr>\n",
       "    <tr>\n",
       "      <th>95878</th>\n",
       "      <td>0.483664</td>\n",
       "      <td>-0.161781</td>\n",
       "      <td>-1.677291</td>\n",
       "      <td>-0.112544</td>\n",
       "      <td>1.075186</td>\n",
       "      <td>2.715522</td>\n",
       "      <td>0</td>\n",
       "      <td>0</td>\n",
       "    </tr>\n",
       "    <tr>\n",
       "      <th>95879</th>\n",
       "      <td>-0.511814</td>\n",
       "      <td>-0.161781</td>\n",
       "      <td>0.657133</td>\n",
       "      <td>-0.112544</td>\n",
       "      <td>-0.328367</td>\n",
       "      <td>-0.204022</td>\n",
       "      <td>0</td>\n",
       "      <td>1</td>\n",
       "    </tr>\n",
       "  </tbody>\n",
       "</table>\n",
       "<p>95872 rows × 8 columns</p>\n",
       "</div>"
      ],
      "text/plain": [
       "       wait_time  delay_vs_expected  review_score  number_of_sellers  \\\n",
       "0      -0.431192          -0.161781     -0.121008          -0.112544   \n",
       "1       0.134174          -0.161781     -0.121008          -0.112544   \n",
       "2      -0.329907          -0.161781      0.657133          -0.112544   \n",
       "3       0.073540          -0.161781      0.657133          -0.112544   \n",
       "4      -1.019535          -0.161781      0.657133          -0.112544   \n",
       "...          ...                ...           ...                ...   \n",
       "95875  -0.454309          -0.161781      0.657133          -0.112544   \n",
       "95876   1.023841          -0.161781     -0.121008          -0.112544   \n",
       "95877   1.305780          -0.161781      0.657133          -0.112544   \n",
       "95878   0.483664          -0.161781     -1.677291          -0.112544   \n",
       "95879  -0.511814          -0.161781      0.657133          -0.112544   \n",
       "\n",
       "          price  freight_value  dim_is_one_star  dim_is_five_star  \n",
       "0     -0.513802      -0.652038                0                 0  \n",
       "1     -0.086640       0.000467                0                 0  \n",
       "2      0.111748      -0.164053                0                 1  \n",
       "3     -0.441525       0.206815                0                 1  \n",
       "4     -0.562388      -0.652038                0                 1  \n",
       "...         ...            ...              ...               ...  \n",
       "95875 -0.311513      -0.449408                0                 1  \n",
       "95876  0.183977      -0.123156                0                 0  \n",
       "95877  0.333684       1.964490                0                 1  \n",
       "95878  1.075186       2.715522                0                 0  \n",
       "95879 -0.328367      -0.204022                0                 1  \n",
       "\n",
       "[95872 rows x 8 columns]"
      ]
     },
     "execution_count": 47,
     "metadata": {},
     "output_type": "execute_result"
    }
   ],
   "source": [
    "# YOUR CODE HERE\n",
    "columns=[\"wait_time\",\"delay_vs_expected\", \"review_score\",\"number_of_sellers\",\"price\",\"freight_value\"]\n",
    "\n",
    "for f in columns:\n",
    "    mean=values[f].mean() \n",
    "    std=values[f].std()   \n",
    "    values[f]=values[f].map(lambda x: (x-mean)/std)\n",
    "    \n",
    "values[\"dim_is_one_star\"] = orders['dim_is_one_star']\n",
    "values[\"dim_is_five_star\"] = orders[\"dim_is_five_star\"]\n",
    "values"
   ]
  },
  {
   "cell_type": "markdown",
   "metadata": {},
   "source": [
    "👉 Run your VIF Analysis to analyze the potential multicolinearities:"
   ]
  },
  {
   "cell_type": "code",
   "execution_count": 48,
   "metadata": {
    "tags": [
     "challengify"
    ]
   },
   "outputs": [
    {
     "data": {
      "text/html": [
       "<div>\n",
       "<style scoped>\n",
       "    .dataframe tbody tr th:only-of-type {\n",
       "        vertical-align: middle;\n",
       "    }\n",
       "\n",
       "    .dataframe tbody tr th {\n",
       "        vertical-align: top;\n",
       "    }\n",
       "\n",
       "    .dataframe thead th {\n",
       "        text-align: right;\n",
       "    }\n",
       "</style>\n",
       "<table border=\"1\" class=\"dataframe\">\n",
       "  <thead>\n",
       "    <tr style=\"text-align: right;\">\n",
       "      <th></th>\n",
       "      <th>VIF</th>\n",
       "    </tr>\n",
       "  </thead>\n",
       "  <tbody>\n",
       "    <tr>\n",
       "      <th>0</th>\n",
       "      <td>2.171700</td>\n",
       "    </tr>\n",
       "    <tr>\n",
       "      <th>1</th>\n",
       "      <td>2.037291</td>\n",
       "    </tr>\n",
       "    <tr>\n",
       "      <th>2</th>\n",
       "      <td>6.520806</td>\n",
       "    </tr>\n",
       "    <tr>\n",
       "      <th>3</th>\n",
       "      <td>1.042730</td>\n",
       "    </tr>\n",
       "    <tr>\n",
       "      <th>4</th>\n",
       "      <td>1.204060</td>\n",
       "    </tr>\n",
       "    <tr>\n",
       "      <th>5</th>\n",
       "      <td>1.280761</td>\n",
       "    </tr>\n",
       "    <tr>\n",
       "      <th>6</th>\n",
       "      <td>4.832550</td>\n",
       "    </tr>\n",
       "    <tr>\n",
       "      <th>7</th>\n",
       "      <td>2.647485</td>\n",
       "    </tr>\n",
       "  </tbody>\n",
       "</table>\n",
       "</div>"
      ],
      "text/plain": [
       "        VIF\n",
       "0  2.171700\n",
       "1  2.037291\n",
       "2  6.520806\n",
       "3  1.042730\n",
       "4  1.204060\n",
       "5  1.280761\n",
       "6  4.832550\n",
       "7  2.647485"
      ]
     },
     "execution_count": 48,
     "metadata": {},
     "output_type": "execute_result"
    }
   ],
   "source": [
    "# YOUR CODE HERE\n",
    "\n",
    "from statsmodels.stats.outliers_influence import variance_inflation_factor\n",
    "vif = pd.DataFrame()\n",
    "vif['VIF'] = [variance_inflation_factor(values.values,i) for i in range(values.shape[1])]\n",
    "vif\n"
   ]
  },
  {
   "cell_type": "markdown",
   "metadata": {},
   "source": [
    "## Logistic Regressions"
   ]
  },
  {
   "cell_type": "markdown",
   "metadata": {},
   "source": [
    "👉 Fit two `Logistic Regression` models:\n",
    "- `logit_one` to predict `dim_is_one_star` \n",
    "- `logit_five` to predict `dim_is_five_star`."
   ]
  },
  {
   "cell_type": "markdown",
   "metadata": {},
   "source": [
    "`Logit 1️⃣`"
   ]
  },
  {
   "cell_type": "code",
   "execution_count": 63,
   "metadata": {
    "tags": [
     "challengify"
    ]
   },
   "outputs": [
    {
     "name": "stdout",
     "output_type": "stream",
     "text": [
      "Optimization terminated successfully.\n",
      "         Current function value: 0.283196\n",
      "         Iterations 7\n"
     ]
    },
    {
     "data": {
      "text/html": [
       "<table class=\"simpletable\">\n",
       "<caption>Logit Regression Results</caption>\n",
       "<tr>\n",
       "  <th>Dep. Variable:</th>    <td>dim_is_one_star</td> <th>  No. Observations:  </th>  <td> 95872</td> \n",
       "</tr>\n",
       "<tr>\n",
       "  <th>Model:</th>                 <td>Logit</td>      <th>  Df Residuals:      </th>  <td> 95869</td> \n",
       "</tr>\n",
       "<tr>\n",
       "  <th>Method:</th>                 <td>MLE</td>       <th>  Df Model:          </th>  <td>     2</td> \n",
       "</tr>\n",
       "<tr>\n",
       "  <th>Date:</th>            <td>Thu, 27 Oct 2022</td> <th>  Pseudo R-squ.:     </th>  <td>0.1147</td> \n",
       "</tr>\n",
       "<tr>\n",
       "  <th>Time:</th>                <td>12:20:07</td>     <th>  Log-Likelihood:    </th> <td> -27151.</td>\n",
       "</tr>\n",
       "<tr>\n",
       "  <th>converged:</th>             <td>True</td>       <th>  LL-Null:           </th> <td> -30669.</td>\n",
       "</tr>\n",
       "<tr>\n",
       "  <th>Covariance Type:</th>     <td>nonrobust</td>    <th>  LLR p-value:       </th>  <td> 0.000</td> \n",
       "</tr>\n",
       "</table>\n",
       "<table class=\"simpletable\">\n",
       "<tr>\n",
       "          <td></td>             <th>coef</th>     <th>std err</th>      <th>z</th>      <th>P>|z|</th>  <th>[0.025</th>    <th>0.975]</th>  \n",
       "</tr>\n",
       "<tr>\n",
       "  <th>Intercept</th>         <td>   -2.3990</td> <td>    0.012</td> <td> -193.843</td> <td> 0.000</td> <td>   -2.423</td> <td>   -2.375</td>\n",
       "</tr>\n",
       "<tr>\n",
       "  <th>wait_time</th>         <td>    0.5589</td> <td>    0.015</td> <td>   38.510</td> <td> 0.000</td> <td>    0.530</td> <td>    0.587</td>\n",
       "</tr>\n",
       "<tr>\n",
       "  <th>delay_vs_expected</th> <td>    0.3367</td> <td>    0.018</td> <td>   19.082</td> <td> 0.000</td> <td>    0.302</td> <td>    0.371</td>\n",
       "</tr>\n",
       "</table>"
      ],
      "text/plain": [
       "<class 'statsmodels.iolib.summary.Summary'>\n",
       "\"\"\"\n",
       "                           Logit Regression Results                           \n",
       "==============================================================================\n",
       "Dep. Variable:        dim_is_one_star   No. Observations:                95872\n",
       "Model:                          Logit   Df Residuals:                    95869\n",
       "Method:                           MLE   Df Model:                            2\n",
       "Date:                Thu, 27 Oct 2022   Pseudo R-squ.:                  0.1147\n",
       "Time:                        12:20:07   Log-Likelihood:                -27151.\n",
       "converged:                       True   LL-Null:                       -30669.\n",
       "Covariance Type:            nonrobust   LLR p-value:                     0.000\n",
       "=====================================================================================\n",
       "                        coef    std err          z      P>|z|      [0.025      0.975]\n",
       "-------------------------------------------------------------------------------------\n",
       "Intercept            -2.3990      0.012   -193.843      0.000      -2.423      -2.375\n",
       "wait_time             0.5589      0.015     38.510      0.000       0.530       0.587\n",
       "delay_vs_expected     0.3367      0.018     19.082      0.000       0.302       0.371\n",
       "=====================================================================================\n",
       "\"\"\""
      ]
     },
     "execution_count": 63,
     "metadata": {},
     "output_type": "execute_result"
    }
   ],
   "source": [
    "# YOUR CODE HERE\n",
    "\n",
    "logit_one = smf.logit(formula='dim_is_one_star ~ wait_time + delay_vs_expected', data=values).fit()\n",
    "logit_one.summary()"
   ]
  },
  {
   "cell_type": "markdown",
   "metadata": {},
   "source": [
    "`Logit 5️⃣`"
   ]
  },
  {
   "cell_type": "code",
   "execution_count": 62,
   "metadata": {
    "tags": [
     "challengify"
    ]
   },
   "outputs": [
    {
     "name": "stdout",
     "output_type": "stream",
     "text": [
      "Optimization terminated successfully.\n",
      "         Current function value: 0.642678\n",
      "         Iterations 7\n"
     ]
    },
    {
     "data": {
      "text/html": [
       "<table class=\"simpletable\">\n",
       "<caption>Logit Regression Results</caption>\n",
       "<tr>\n",
       "  <th>Dep. Variable:</th>   <td>dim_is_five_star</td> <th>  No. Observations:  </th>  <td> 95872</td> \n",
       "</tr>\n",
       "<tr>\n",
       "  <th>Model:</th>                 <td>Logit</td>      <th>  Df Residuals:      </th>  <td> 95869</td> \n",
       "</tr>\n",
       "<tr>\n",
       "  <th>Method:</th>                 <td>MLE</td>       <th>  Df Model:          </th>  <td>     2</td> \n",
       "</tr>\n",
       "<tr>\n",
       "  <th>Date:</th>            <td>Thu, 27 Oct 2022</td> <th>  Pseudo R-squ.:     </th>  <td>0.04941</td>\n",
       "</tr>\n",
       "<tr>\n",
       "  <th>Time:</th>                <td>12:19:56</td>     <th>  Log-Likelihood:    </th> <td> -61615.</td>\n",
       "</tr>\n",
       "<tr>\n",
       "  <th>converged:</th>             <td>True</td>       <th>  LL-Null:           </th> <td> -64817.</td>\n",
       "</tr>\n",
       "<tr>\n",
       "  <th>Covariance Type:</th>     <td>nonrobust</td>    <th>  LLR p-value:       </th>  <td> 0.000</td> \n",
       "</tr>\n",
       "</table>\n",
       "<table class=\"simpletable\">\n",
       "<tr>\n",
       "          <td></td>             <th>coef</th>     <th>std err</th>      <th>z</th>      <th>P>|z|</th>  <th>[0.025</th>    <th>0.975]</th>  \n",
       "</tr>\n",
       "<tr>\n",
       "  <th>Intercept</th>         <td>    0.3367</td> <td>    0.007</td> <td>   47.258</td> <td> 0.000</td> <td>    0.323</td> <td>    0.351</td>\n",
       "</tr>\n",
       "<tr>\n",
       "  <th>wait_time</th>         <td>   -0.4406</td> <td>    0.010</td> <td>  -44.065</td> <td> 0.000</td> <td>   -0.460</td> <td>   -0.421</td>\n",
       "</tr>\n",
       "<tr>\n",
       "  <th>delay_vs_expected</th> <td>   -0.4926</td> <td>    0.023</td> <td>  -21.326</td> <td> 0.000</td> <td>   -0.538</td> <td>   -0.447</td>\n",
       "</tr>\n",
       "</table>"
      ],
      "text/plain": [
       "<class 'statsmodels.iolib.summary.Summary'>\n",
       "\"\"\"\n",
       "                           Logit Regression Results                           \n",
       "==============================================================================\n",
       "Dep. Variable:       dim_is_five_star   No. Observations:                95872\n",
       "Model:                          Logit   Df Residuals:                    95869\n",
       "Method:                           MLE   Df Model:                            2\n",
       "Date:                Thu, 27 Oct 2022   Pseudo R-squ.:                 0.04941\n",
       "Time:                        12:19:56   Log-Likelihood:                -61615.\n",
       "converged:                       True   LL-Null:                       -64817.\n",
       "Covariance Type:            nonrobust   LLR p-value:                     0.000\n",
       "=====================================================================================\n",
       "                        coef    std err          z      P>|z|      [0.025      0.975]\n",
       "-------------------------------------------------------------------------------------\n",
       "Intercept             0.3367      0.007     47.258      0.000       0.323       0.351\n",
       "wait_time            -0.4406      0.010    -44.065      0.000      -0.460      -0.421\n",
       "delay_vs_expected    -0.4926      0.023    -21.326      0.000      -0.538      -0.447\n",
       "=====================================================================================\n",
       "\"\"\""
      ]
     },
     "execution_count": 62,
     "metadata": {},
     "output_type": "execute_result"
    }
   ],
   "source": [
    "# YOUR CODE HERE\n",
    "\n",
    "logit_five = smf.logit(formula='dim_is_five_star ~ wait_time + delay_vs_expected', data=values).fit()\n",
    "logit_five.summary()"
   ]
  },
  {
   "cell_type": "markdown",
   "metadata": {},
   "source": [
    "💡 It's time to analyse the results of these two logistic regressions:\n",
    "\n",
    "- Interpret the partial coefficients in your own words.\n",
    "- Check their statistical significances with `p-values`\n",
    "- Do you notice any differences between `logit_one` and `logit_five` in terms of coefficient importances?"
   ]
  },
  {
   "cell_type": "code",
   "execution_count": 59,
   "metadata": {},
   "outputs": [],
   "source": [
    "# Among the following sentences, store the ones that are true in the list below\n",
    "\n",
    "a = \"delay_vs_expected influences five_star ratings even more than one_star ratings\"\n",
    "b = \"wait_time influences five_star ratings even more more than one_star\"\n",
    "\n",
    "your_answer = [a]"
   ]
  },
  {
   "cell_type": "markdown",
   "metadata": {},
   "source": [
    "🧪 __Test your code__"
   ]
  },
  {
   "cell_type": "code",
   "execution_count": 60,
   "metadata": {},
   "outputs": [
    {
     "name": "stdout",
     "output_type": "stream",
     "text": [
      "\n",
      "\u001b[1m============================= test session starts ==============================\u001b[0m\n",
      "platform darwin -- Python 3.10.6, pytest-7.1.3, pluggy-1.0.0 -- /Users/fercancercel/.pyenv/versions/lewagon/bin/python3\n",
      "cachedir: .pytest_cache\n",
      "rootdir: /Users/fercancercel/code/fercanc/data-logit/tests\n",
      "plugins: anyio-3.6.1, asyncio-0.19.0\n",
      "asyncio: mode=strict\n",
      "\u001b[1mcollecting ... \u001b[0mcollected 1 item\n",
      "\n",
      "test_logit.py::TestLogit::test_question \u001b[32mPASSED\u001b[0m\u001b[32m                           [100%]\u001b[0m\n",
      "\n",
      "\u001b[32m============================== \u001b[32m\u001b[1m1 passed\u001b[0m\u001b[32m in 0.01s\u001b[0m\u001b[32m ===============================\u001b[0m\n",
      "\n",
      "\n",
      "💯 You can commit your code:\n",
      "\n",
      "\u001b[1;32mgit\u001b[39m add tests/logit.pickle\n",
      "\n",
      "\u001b[32mgit\u001b[39m commit -m \u001b[33m'Completed logit step'\u001b[39m\n",
      "\n",
      "\u001b[32mgit\u001b[39m push origin master\n",
      "\n"
     ]
    }
   ],
   "source": [
    "from nbresult import ChallengeResult\n",
    "\n",
    "result = ChallengeResult('logit',\n",
    "    answers = your_answer\n",
    ")\n",
    "result.write()\n",
    "print(result.check())"
   ]
  },
  {
   "cell_type": "markdown",
   "metadata": {},
   "source": [
    "<details>\n",
    "    <summary>- <i>Explanations and advanced concepts </i> -</summary>\n",
    "\n",
    "\n",
    "> _All other thing being equal, the `delay factor` tends to increase the chances of getting stripped of the 5-star even more so than it affect the chances of 1-star reviews. Probably because 1-stars are really targeting bad products themselves, not bad deliveries_\n",
    "    \n",
    "❗️ However, to be totally rigorous, we have to be **more careful when comparing coefficients from two different models**, because **they might not be based on similar populations**!\n",
    "    We have 2 sub-populations here: (people who gave 1-stars; and people who gave 5-stars) and they may exhibit intrinsically different behavior patterns. It may well be that \"happy-people\" (who tends to give 5-stars easily) are less sensitive as \"grumpy-people\" (who shoot 1-stars like Lucky-Luke), when it comes to \"delay\", or \"price\"...\n",
    "\n",
    "</details>\n"
   ]
  },
  {
   "cell_type": "markdown",
   "metadata": {},
   "source": [
    "## Logistic vs. Linear ?"
   ]
  },
  {
   "cell_type": "markdown",
   "metadata": {},
   "source": [
    "👉 Compare:\n",
    "- the regression coefficients obtained from the `Logistic Regression `\n",
    "- with the regression coefficients obtained through a `Linear Regression` \n",
    "- on `review_score`, using the same features. \n",
    "\n",
    "⚠️ Check that both sets of coefficients  tell  \"the same story\"."
   ]
  },
  {
   "cell_type": "markdown",
   "metadata": {
    "tags": [
     "challengify"
    ]
   },
   "source": [
    "> YOUR ANSWER HERE"
   ]
  },
  {
   "cell_type": "code",
   "execution_count": 74,
   "metadata": {
    "tags": [
     "challengify"
    ]
   },
   "outputs": [
    {
     "data": {
      "text/html": [
       "<table class=\"simpletable\">\n",
       "<caption>OLS Regression Results</caption>\n",
       "<tr>\n",
       "  <th>Dep. Variable:</th>     <td>dim_is_one_star</td> <th>  R-squared:         </th> <td>   0.103</td> \n",
       "</tr>\n",
       "<tr>\n",
       "  <th>Model:</th>                   <td>OLS</td>       <th>  Adj. R-squared:    </th> <td>   0.103</td> \n",
       "</tr>\n",
       "<tr>\n",
       "  <th>Method:</th>             <td>Least Squares</td>  <th>  F-statistic:       </th> <td>   5508.</td> \n",
       "</tr>\n",
       "<tr>\n",
       "  <th>Date:</th>             <td>Thu, 27 Oct 2022</td> <th>  Prob (F-statistic):</th>  <td>  0.00</td>  \n",
       "</tr>\n",
       "<tr>\n",
       "  <th>Time:</th>                 <td>13:18:24</td>     <th>  Log-Likelihood:    </th> <td> -14381.</td> \n",
       "</tr>\n",
       "<tr>\n",
       "  <th>No. Observations:</th>      <td> 95872</td>      <th>  AIC:               </th> <td>2.877e+04</td>\n",
       "</tr>\n",
       "<tr>\n",
       "  <th>Df Residuals:</th>          <td> 95869</td>      <th>  BIC:               </th> <td>2.880e+04</td>\n",
       "</tr>\n",
       "<tr>\n",
       "  <th>Df Model:</th>              <td>     2</td>      <th>                     </th>     <td> </td>    \n",
       "</tr>\n",
       "<tr>\n",
       "  <th>Covariance Type:</th>      <td>nonrobust</td>    <th>                     </th>     <td> </td>    \n",
       "</tr>\n",
       "</table>\n",
       "<table class=\"simpletable\">\n",
       "<tr>\n",
       "          <td></td>             <th>coef</th>     <th>std err</th>      <th>t</th>      <th>P>|t|</th>  <th>[0.025</th>    <th>0.975]</th>  \n",
       "</tr>\n",
       "<tr>\n",
       "  <th>Intercept</th>         <td>    0.0977</td> <td>    0.001</td> <td>  107.549</td> <td> 0.000</td> <td>    0.096</td> <td>    0.099</td>\n",
       "</tr>\n",
       "<tr>\n",
       "  <th>wait_time</th>         <td>    0.0619</td> <td>    0.001</td> <td>   48.491</td> <td> 0.000</td> <td>    0.059</td> <td>    0.064</td>\n",
       "</tr>\n",
       "<tr>\n",
       "  <th>delay_vs_expected</th> <td>    0.0410</td> <td>    0.001</td> <td>   32.164</td> <td> 0.000</td> <td>    0.039</td> <td>    0.044</td>\n",
       "</tr>\n",
       "</table>\n",
       "<table class=\"simpletable\">\n",
       "<tr>\n",
       "  <th>Omnibus:</th>       <td>46556.109</td> <th>  Durbin-Watson:     </th>  <td>   2.003</td> \n",
       "</tr>\n",
       "<tr>\n",
       "  <th>Prob(Omnibus):</th>  <td> 0.000</td>   <th>  Jarque-Bera (JB):  </th> <td>273634.222</td>\n",
       "</tr>\n",
       "<tr>\n",
       "  <th>Skew:</th>           <td> 2.328</td>   <th>  Prob(JB):          </th>  <td>    0.00</td> \n",
       "</tr>\n",
       "<tr>\n",
       "  <th>Kurtosis:</th>       <td> 9.843</td>   <th>  Cond. No.          </th>  <td>    2.39</td> \n",
       "</tr>\n",
       "</table><br/><br/>Notes:<br/>[1] Standard Errors assume that the covariance matrix of the errors is correctly specified."
      ],
      "text/plain": [
       "<class 'statsmodels.iolib.summary.Summary'>\n",
       "\"\"\"\n",
       "                            OLS Regression Results                            \n",
       "==============================================================================\n",
       "Dep. Variable:        dim_is_one_star   R-squared:                       0.103\n",
       "Model:                            OLS   Adj. R-squared:                  0.103\n",
       "Method:                 Least Squares   F-statistic:                     5508.\n",
       "Date:                Thu, 27 Oct 2022   Prob (F-statistic):               0.00\n",
       "Time:                        13:18:24   Log-Likelihood:                -14381.\n",
       "No. Observations:               95872   AIC:                         2.877e+04\n",
       "Df Residuals:                   95869   BIC:                         2.880e+04\n",
       "Df Model:                           2                                         \n",
       "Covariance Type:            nonrobust                                         \n",
       "=====================================================================================\n",
       "                        coef    std err          t      P>|t|      [0.025      0.975]\n",
       "-------------------------------------------------------------------------------------\n",
       "Intercept             0.0977      0.001    107.549      0.000       0.096       0.099\n",
       "wait_time             0.0619      0.001     48.491      0.000       0.059       0.064\n",
       "delay_vs_expected     0.0410      0.001     32.164      0.000       0.039       0.044\n",
       "==============================================================================\n",
       "Omnibus:                    46556.109   Durbin-Watson:                   2.003\n",
       "Prob(Omnibus):                  0.000   Jarque-Bera (JB):           273634.222\n",
       "Skew:                           2.328   Prob(JB):                         0.00\n",
       "Kurtosis:                       9.843   Cond. No.                         2.39\n",
       "==============================================================================\n",
       "\n",
       "Notes:\n",
       "[1] Standard Errors assume that the covariance matrix of the errors is correctly specified.\n",
       "\"\"\""
      ]
     },
     "execution_count": 74,
     "metadata": {},
     "output_type": "execute_result"
    }
   ],
   "source": [
    "# YOUR CODE HERE\n",
    "model2 = smf.ols(formula='dim_is_one_star ~ wait_time + delay_vs_expected', data=values).fit()\n",
    "model2.summary()"
   ]
  },
  {
   "cell_type": "markdown",
   "metadata": {},
   "source": [
    "🏁 Congratulations! \n",
    "\n",
    "💾 Don't forget to commit and push your `logit.ipynb` notebook !"
   ]
  },
  {
   "cell_type": "code",
   "execution_count": null,
   "metadata": {},
   "outputs": [],
   "source": []
  }
 ],
 "metadata": {
  "kernelspec": {
   "display_name": "Python 3 (ipykernel)",
   "language": "python",
   "name": "python3"
  },
  "language_info": {
   "codemirror_mode": {
    "name": "ipython",
    "version": 3
   },
   "file_extension": ".py",
   "mimetype": "text/x-python",
   "name": "python",
   "nbconvert_exporter": "python",
   "pygments_lexer": "ipython3",
   "version": "3.10.6"
  },
  "toc": {
   "base_numbering": 1,
   "nav_menu": {},
   "number_sections": true,
   "sideBar": true,
   "skip_h1_title": false,
   "title_cell": "Table of Contents",
   "title_sidebar": "Contents",
   "toc_cell": false,
   "toc_position": {},
   "toc_section_display": true,
   "toc_window_display": false
  }
 },
 "nbformat": 4,
 "nbformat_minor": 4
}
