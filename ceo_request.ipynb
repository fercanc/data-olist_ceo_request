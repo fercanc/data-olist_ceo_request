{
 "cells": [
  {
   "cell_type": "markdown",
   "metadata": {
    "slideshow": {
     "slide_type": "skip"
    }
   },
   "source": [
    "# CEO-Request Challenge"
   ]
  },
  {
   "cell_type": "markdown",
   "metadata": {
    "slideshow": {
     "slide_type": "skip"
    }
   },
   "source": [
    "## 1. Summary of Problem Statement"
   ]
  },
  {
   "cell_type": "markdown",
   "metadata": {
    "slideshow": {
     "slide_type": "skip"
    }
   },
   "source": [
    "❓ **How could Olist improve its profit** ❓"
   ]
  },
  {
   "cell_type": "markdown",
   "metadata": {
    "slideshow": {
     "slide_type": "skip"
    }
   },
   "source": [
    "### P&L Rules"
   ]
  },
  {
   "cell_type": "markdown",
   "metadata": {
    "slideshow": {
     "slide_type": "skip"
    }
   },
   "source": [
    "#### Revenues  \n",
    "**Sales fees:** Olist takes a **10% cut** on the product price (excl. freight) of each order delivered  \n",
    "**Subscription fees:** Olist charges **80 BRL by month** per seller\n",
    "\n",
    "#### Costs\n",
    "**Reputation costs** *estimated* per order with bad reviews (<= 3 stars)  \n",
    "\n",
    "💡 In the long term, bad customer experience has business implications: low repeat rate, immediate customer support cost, refunds or unfavorable word of mouth communication. We will assume that we have an estimate measure of the monetary cost for each bad review:\n",
    "```python\n",
    "# review_score: cost(BRL)\n",
    "{'1 star': 100\n",
    "'2 stars': 50\n",
    "'3 stars': 40\n",
    "'4 stars': 0\n",
    "'5 stars': 0}\n",
    "```\n",
    "\n",
    "**IT costs:** Olist's **total cumulated IT Costs** scale with the square root of the total number of sellers that has ever join the platform, as well as the square root of the total cumulated number of products that was ever sold.  \n",
    "\n",
    "$IT\\_costs = \\alpha * \\sqrt{n\\_sellers} + \\beta * \\sqrt{n\\_products}$  \n",
    "Olist's data team gave us the following values for these scaling parameters:\n",
    "- $\\alpha = 3157.27$\n",
    "- $\\beta = 978.23$\n",
    "\n",
    "💡 Both number of sellers to manage and sales transaction are costly for IT systems.  \n",
    "💡 Yet square roots reflect scale-effects: IT-system are often more efficient as they grow bigger.  \n",
    "💡 Alpha > Beta means that \"Olist has a lower IT Cost with few sellers selling a lot of products rather than the opposite  \n",
    "- with **1000 sellers** and a total of **100 products** sold, the total IT cost accumulates to 109,624 BRL\n",
    "- with **100 sellers** and a total of **1000 products** sold, the total IT cost accumulates to 62,507 BRL\n",
    "\n",
    "Finally, The IT department also told you that since the birth of the marketplace, cumulated IT costs have amounted to **500,000 BRL**."
   ]
  },
  {
   "cell_type": "markdown",
   "metadata": {
    "slideshow": {
     "slide_type": "skip"
    }
   },
   "source": [
    "### Key Findings, so far"
   ]
  },
  {
   "cell_type": "markdown",
   "metadata": {
    "slideshow": {
     "slide_type": "skip"
    }
   },
   "source": [
    "- `wait_time` is the most significant factor behind low review scores  \n",
    "- `wait_time` is made up of seller's `delay_to_carrier` + `carrier_delivery_time`.  \n",
    "- The latter being outside of Olist's direct control, improving it is not a quick-win recommendation\n",
    "- On the contrary, a better selection of `sellers` can positively impact the `delay_to_carrier` and reduce the number of bad `review_scores` on Olist.\n",
    "- Comments of the bad reviews showed that some were linked to the seller or to the product itself."
   ]
  },
  {
   "cell_type": "markdown",
   "metadata": {
    "slideshow": {
     "slide_type": "skip"
    }
   },
   "source": [
    "💡 We recommend you to start with the the guided seller analysis in part 2 below  \n",
    "💪 But feel free to investigate into other hypothesis instead with part 3"
   ]
  },
  {
   "cell_type": "markdown",
   "metadata": {
    "slideshow": {
     "slide_type": "skip"
    }
   },
   "source": [
    "## 2. Should Olist remove under-performing sellers from its marketplace? 🕵🏻\n",
    "*(recommended)*"
   ]
  },
  {
   "cell_type": "markdown",
   "metadata": {
    "slideshow": {
     "slide_type": "skip"
    }
   },
   "source": [
    "To analyze the impact of removing the worse sellers from Olist's marketplace, we will perform a **what-if analysis**\n",
    "\n",
    "👉 **What would have happened if Olist had never accepted these sellers in the first place?**  \n",
    "\n",
    "*(In practice, it's hard to know in advance who is a good seller, but let's start with this approach and iterate later).*"
   ]
  },
  {
   "cell_type": "markdown",
   "metadata": {
    "slideshow": {
     "slide_type": "skip"
    }
   },
   "source": [
    "### 2.1 Data Preparation"
   ]
  },
  {
   "cell_type": "markdown",
   "metadata": {
    "slideshow": {
     "slide_type": "skip"
    }
   },
   "source": [
    "Compute, for each `seller_id`, and cumulated since the beginning:\n",
    "- the `revenues` it brings\n",
    "- the `review_costs` associated with all its bad reviews\n",
    "- the resulting `profits` (revenues - costs)\n",
    "\n",
    "👉 Write down a step-by-step strategy to create the DataFrame you need\n",
    "\n",
    "\n",
    "⚠️ Don't start from scratch, update your existing package 😉\n",
    "\n",
    "Starting from the `Seller` class of your `olist` package:\n",
    "\n",
    "Edit the `get_training_data` method so that the DataFrame it returns contains the fields:\n",
    "- `revenues`: sum of subscription and sales fees revenues\n",
    "- `cost_of_reviews`: sum of costs associated with bad reviews\n",
    "- `profits`: `revenues` - `cost_of_reviews`"
   ]
  },
  {
   "cell_type": "markdown",
   "metadata": {
    "slideshow": {
     "slide_type": "skip"
    }
   },
   "source": [
    "### 2.2 What-if Analysis"
   ]
  },
  {
   "cell_type": "markdown",
   "metadata": {
    "slideshow": {
     "slide_type": "skip"
    }
   },
   "source": [
    "👉 Time to perform the actual analysis, here are our steps:  \n",
    "\n",
    "1️⃣ Create a method that will help us update the IT Costs after removing sellers along with the products they sold\n",
    "\n",
    "2️⃣ Sort sellers by increasing profits\n",
    "\n",
    "3️⃣ Remove sellers one by one, starting from the one with the lowest profit.\n",
    "- For each number of sellers to remove, compute the financial impact on Olist global profits.\n",
    "\n",
    "4️⃣ Find an optimal number of sellers to remove that maximizes either Olist's profit margin or profit."
   ]
  },
  {
   "cell_type": "markdown",
   "metadata": {
    "slideshow": {
     "slide_type": "skip"
    }
   },
   "source": [
    "## 3. Investigate other Approaches 🕵️\n",
    "*(optional)*"
   ]
  },
  {
   "cell_type": "markdown",
   "metadata": {
    "slideshow": {
     "slide_type": "skip"
    }
   },
   "source": [
    "- Should Olist remove the worst performing products / categories from its marketplace entirely?\n",
    "- Should Olist remove only consistently underperforming sellers, after it has a honeymoon period of few months?\n",
    "- Should Olist restrict seller/customer pairs between certain states to avoid delays?\n",
    "- Should Olist acquire new sellers, with some cost assumptions to be suggested?\n",
    "- ...\n"
   ]
  },
  {
   "cell_type": "markdown",
   "metadata": {
    "slideshow": {
     "slide_type": "skip"
    }
   },
   "source": [
    "## Your turn!"
   ]
  },
  {
   "cell_type": "markdown",
   "metadata": {
    "slideshow": {
     "slide_type": "skip"
    }
   },
   "source": [
    "🧺 Keep this notebook tidy! \n",
    "\n",
    "🗣 📊 You will present your insights to your favorite TA at the end of this `Communicate` unit 💪"
   ]
  },
  {
   "cell_type": "markdown",
   "metadata": {
    "slideshow": {
     "slide_type": "skip"
    }
   },
   "source": [
    "# DATA PREPERATION"
   ]
  },
  {
   "cell_type": "markdown",
   "metadata": {
    "slideshow": {
     "slide_type": "skip"
    }
   },
   "source": [
    "## Import Packages & Data"
   ]
  },
  {
   "cell_type": "code",
   "execution_count": 1,
   "metadata": {
    "slideshow": {
     "slide_type": "skip"
    }
   },
   "outputs": [],
   "source": [
    "# input autoreload\n",
    "%load_ext autoreload\n",
    "%autoreload 2"
   ]
  },
  {
   "cell_type": "code",
   "execution_count": 2,
   "metadata": {
    "slideshow": {
     "slide_type": "skip"
    }
   },
   "outputs": [],
   "source": [
    "#import usual packages\n",
    "import pandas as pd\n",
    "import numpy as np \n",
    "import seaborn as sns\n",
    "import matplotlib.pyplot as plt\n",
    "import math"
   ]
  },
  {
   "cell_type": "markdown",
   "metadata": {
    "slideshow": {
     "slide_type": "skip"
    }
   },
   "source": [
    "## Check Data"
   ]
  },
  {
   "cell_type": "code",
   "execution_count": 3,
   "metadata": {
    "slideshow": {
     "slide_type": "skip"
    }
   },
   "outputs": [
    {
     "name": "stderr",
     "output_type": "stream",
     "text": [
      "/Users/fercancercel/code/fercanc/data-context-and-setup/olist/order.py:29: SettingWithCopyWarning: \n",
      "A value is trying to be set on a copy of a slice from a DataFrame.\n",
      "Try using .loc[row_indexer,col_indexer] = value instead\n",
      "\n",
      "See the caveats in the documentation: https://pandas.pydata.org/pandas-docs/stable/user_guide/indexing.html#returning-a-view-versus-a-copy\n",
      "  orders['order_purchase_timestamp'] = pd.to_datetime(orders['order_purchase_timestamp'])\n",
      "/Users/fercancercel/code/fercanc/data-context-and-setup/olist/order.py:32: SettingWithCopyWarning: \n",
      "A value is trying to be set on a copy of a slice from a DataFrame.\n",
      "Try using .loc[row_indexer,col_indexer] = value instead\n",
      "\n",
      "See the caveats in the documentation: https://pandas.pydata.org/pandas-docs/stable/user_guide/indexing.html#returning-a-view-versus-a-copy\n",
      "  orders['order_delivered_customer_date'] = pd.to_datetime(orders['order_delivered_customer_date'])\n",
      "/Users/fercancercel/code/fercanc/data-context-and-setup/olist/order.py:33: SettingWithCopyWarning: \n",
      "A value is trying to be set on a copy of a slice from a DataFrame.\n",
      "Try using .loc[row_indexer,col_indexer] = value instead\n",
      "\n",
      "See the caveats in the documentation: https://pandas.pydata.org/pandas-docs/stable/user_guide/indexing.html#returning-a-view-versus-a-copy\n",
      "  orders['order_estimated_delivery_date'] = pd.to_datetime(orders['order_estimated_delivery_date'])\n",
      "/Users/fercancercel/code/fercanc/data-context-and-setup/olist/order.py:35: SettingWithCopyWarning: \n",
      "A value is trying to be set on a copy of a slice from a DataFrame.\n",
      "Try using .loc[row_indexer,col_indexer] = value instead\n",
      "\n",
      "See the caveats in the documentation: https://pandas.pydata.org/pandas-docs/stable/user_guide/indexing.html#returning-a-view-versus-a-copy\n",
      "  orders.loc[:, 'wait_time'] = (orders['order_delivered_customer_date'] - orders['order_purchase_timestamp']) / np.timedelta64(24 , 'h')\n",
      "/Users/fercancercel/code/fercanc/data-context-and-setup/olist/order.py:36: SettingWithCopyWarning: \n",
      "A value is trying to be set on a copy of a slice from a DataFrame.\n",
      "Try using .loc[row_indexer,col_indexer] = value instead\n",
      "\n",
      "See the caveats in the documentation: https://pandas.pydata.org/pandas-docs/stable/user_guide/indexing.html#returning-a-view-versus-a-copy\n",
      "  orders.loc[:, 'expected_wait_time'] = (orders['order_estimated_delivery_date'] - orders['order_purchase_timestamp']) / np.timedelta64(24 , 'h')\n",
      "/Users/fercancercel/code/fercanc/data-context-and-setup/olist/order.py:37: SettingWithCopyWarning: \n",
      "A value is trying to be set on a copy of a slice from a DataFrame.\n",
      "Try using .loc[row_indexer,col_indexer] = value instead\n",
      "\n",
      "See the caveats in the documentation: https://pandas.pydata.org/pandas-docs/stable/user_guide/indexing.html#returning-a-view-versus-a-copy\n",
      "  orders.loc[:, 'delay_vs_expected'] = (orders['order_delivered_customer_date'] - orders['order_estimated_delivery_date']) / np.timedelta64(24, 'h')\n",
      "/Users/fercancercel/code/fercanc/data-context-and-setup/olist/order.py:47: SettingWithCopyWarning: \n",
      "A value is trying to be set on a copy of a slice from a DataFrame.\n",
      "Try using .loc[row_indexer,col_indexer] = value instead\n",
      "\n",
      "See the caveats in the documentation: https://pandas.pydata.org/pandas-docs/stable/user_guide/indexing.html#returning-a-view-versus-a-copy\n",
      "  orders.loc[:,'delay_vs_expected'] = orders['delay_vs_expected'].apply(handle_delay)\n"
     ]
    },
    {
     "data": {
      "text/html": [
       "<div>\n",
       "<style scoped>\n",
       "    .dataframe tbody tr th:only-of-type {\n",
       "        vertical-align: middle;\n",
       "    }\n",
       "\n",
       "    .dataframe tbody tr th {\n",
       "        vertical-align: top;\n",
       "    }\n",
       "\n",
       "    .dataframe thead th {\n",
       "        text-align: right;\n",
       "    }\n",
       "</style>\n",
       "<table border=\"1\" class=\"dataframe\">\n",
       "  <thead>\n",
       "    <tr style=\"text-align: right;\">\n",
       "      <th></th>\n",
       "      <th>seller_id</th>\n",
       "      <th>seller_city</th>\n",
       "      <th>seller_state</th>\n",
       "      <th>delay_to_carrier</th>\n",
       "      <th>wait_time</th>\n",
       "      <th>date_first_sale</th>\n",
       "      <th>date_last_sale</th>\n",
       "      <th>months_on_olist</th>\n",
       "      <th>n_orders</th>\n",
       "      <th>quantity</th>\n",
       "      <th>quantity_per_order</th>\n",
       "      <th>sales</th>\n",
       "      <th>share_of_one_stars</th>\n",
       "      <th>share_of_five_stars</th>\n",
       "      <th>review_score</th>\n",
       "    </tr>\n",
       "  </thead>\n",
       "  <tbody>\n",
       "    <tr>\n",
       "      <th>0</th>\n",
       "      <td>3442f8959a84dea7ee197c632cb2df15</td>\n",
       "      <td>campinas</td>\n",
       "      <td>SP</td>\n",
       "      <td>0.0</td>\n",
       "      <td>13.018588</td>\n",
       "      <td>2017-05-05 16:25:11</td>\n",
       "      <td>2017-08-30 12:50:19</td>\n",
       "      <td>4.0</td>\n",
       "      <td>3</td>\n",
       "      <td>3</td>\n",
       "      <td>1.000</td>\n",
       "      <td>218.70</td>\n",
       "      <td>0.333333</td>\n",
       "      <td>0.333333</td>\n",
       "      <td>3.00</td>\n",
       "    </tr>\n",
       "    <tr>\n",
       "      <th>1</th>\n",
       "      <td>d1b65fc7debc3361ea86b5f14c68d2e2</td>\n",
       "      <td>mogi guacu</td>\n",
       "      <td>SP</td>\n",
       "      <td>0.0</td>\n",
       "      <td>9.065716</td>\n",
       "      <td>2017-03-29 02:10:34</td>\n",
       "      <td>2018-06-06 20:15:21</td>\n",
       "      <td>14.0</td>\n",
       "      <td>40</td>\n",
       "      <td>41</td>\n",
       "      <td>1.025</td>\n",
       "      <td>11703.07</td>\n",
       "      <td>0.050000</td>\n",
       "      <td>0.725000</td>\n",
       "      <td>4.55</td>\n",
       "    </tr>\n",
       "  </tbody>\n",
       "</table>\n",
       "</div>"
      ],
      "text/plain": [
       "                          seller_id seller_city seller_state  \\\n",
       "0  3442f8959a84dea7ee197c632cb2df15    campinas           SP   \n",
       "1  d1b65fc7debc3361ea86b5f14c68d2e2  mogi guacu           SP   \n",
       "\n",
       "   delay_to_carrier  wait_time     date_first_sale      date_last_sale  \\\n",
       "0               0.0  13.018588 2017-05-05 16:25:11 2017-08-30 12:50:19   \n",
       "1               0.0   9.065716 2017-03-29 02:10:34 2018-06-06 20:15:21   \n",
       "\n",
       "   months_on_olist  n_orders  quantity  quantity_per_order     sales  \\\n",
       "0              4.0         3         3               1.000    218.70   \n",
       "1             14.0        40        41               1.025  11703.07   \n",
       "\n",
       "   share_of_one_stars  share_of_five_stars  review_score  \n",
       "0            0.333333             0.333333          3.00  \n",
       "1            0.050000             0.725000          4.55  "
      ]
     },
     "execution_count": 3,
     "metadata": {},
     "output_type": "execute_result"
    }
   ],
   "source": [
    "# Import your newly coded _order_ training set\n",
    "from olist.seller import Seller\n",
    "from olist.order import Order\n",
    "from olist.data import Olist\n",
    "olist = Olist()\n",
    "data = olist.get_data()\n",
    "\n",
    "sellers = Seller().get_training_data()\n",
    "orders = Order().get_training_data(with_distance_seller_customer=True)\n",
    "\n",
    "sellers.head(2)"
   ]
  },
  {
   "cell_type": "markdown",
   "metadata": {
    "slideshow": {
     "slide_type": "skip"
    }
   },
   "source": [
    "## Calculate Revenue and Review Costs"
   ]
  },
  {
   "cell_type": "code",
   "execution_count": 4,
   "metadata": {
    "slideshow": {
     "slide_type": "skip"
    }
   },
   "outputs": [
    {
     "data": {
      "text/html": [
       "<div>\n",
       "<style scoped>\n",
       "    .dataframe tbody tr th:only-of-type {\n",
       "        vertical-align: middle;\n",
       "    }\n",
       "\n",
       "    .dataframe tbody tr th {\n",
       "        vertical-align: top;\n",
       "    }\n",
       "\n",
       "    .dataframe thead th {\n",
       "        text-align: right;\n",
       "    }\n",
       "</style>\n",
       "<table border=\"1\" class=\"dataframe\">\n",
       "  <thead>\n",
       "    <tr style=\"text-align: right;\">\n",
       "      <th></th>\n",
       "      <th>seller_id</th>\n",
       "      <th>seller_city</th>\n",
       "      <th>seller_state</th>\n",
       "      <th>delay_to_carrier</th>\n",
       "      <th>wait_time</th>\n",
       "      <th>date_first_sale</th>\n",
       "      <th>date_last_sale</th>\n",
       "      <th>months_on_olist</th>\n",
       "      <th>n_orders</th>\n",
       "      <th>quantity</th>\n",
       "      <th>quantity_per_order</th>\n",
       "      <th>sales</th>\n",
       "      <th>share_of_one_stars</th>\n",
       "      <th>share_of_five_stars</th>\n",
       "      <th>review_score</th>\n",
       "      <th>revenues</th>\n",
       "    </tr>\n",
       "  </thead>\n",
       "  <tbody>\n",
       "    <tr>\n",
       "      <th>0</th>\n",
       "      <td>3442f8959a84dea7ee197c632cb2df15</td>\n",
       "      <td>campinas</td>\n",
       "      <td>SP</td>\n",
       "      <td>0.0</td>\n",
       "      <td>13.018588</td>\n",
       "      <td>2017-05-05 16:25:11</td>\n",
       "      <td>2017-08-30 12:50:19</td>\n",
       "      <td>4.0</td>\n",
       "      <td>3</td>\n",
       "      <td>3</td>\n",
       "      <td>1.000</td>\n",
       "      <td>218.70</td>\n",
       "      <td>0.333333</td>\n",
       "      <td>0.333333</td>\n",
       "      <td>3.00</td>\n",
       "      <td>341.870</td>\n",
       "    </tr>\n",
       "    <tr>\n",
       "      <th>1</th>\n",
       "      <td>d1b65fc7debc3361ea86b5f14c68d2e2</td>\n",
       "      <td>mogi guacu</td>\n",
       "      <td>SP</td>\n",
       "      <td>0.0</td>\n",
       "      <td>9.065716</td>\n",
       "      <td>2017-03-29 02:10:34</td>\n",
       "      <td>2018-06-06 20:15:21</td>\n",
       "      <td>14.0</td>\n",
       "      <td>40</td>\n",
       "      <td>41</td>\n",
       "      <td>1.025</td>\n",
       "      <td>11703.07</td>\n",
       "      <td>0.050000</td>\n",
       "      <td>0.725000</td>\n",
       "      <td>4.55</td>\n",
       "      <td>2290.307</td>\n",
       "    </tr>\n",
       "  </tbody>\n",
       "</table>\n",
       "</div>"
      ],
      "text/plain": [
       "                          seller_id seller_city seller_state  \\\n",
       "0  3442f8959a84dea7ee197c632cb2df15    campinas           SP   \n",
       "1  d1b65fc7debc3361ea86b5f14c68d2e2  mogi guacu           SP   \n",
       "\n",
       "   delay_to_carrier  wait_time     date_first_sale      date_last_sale  \\\n",
       "0               0.0  13.018588 2017-05-05 16:25:11 2017-08-30 12:50:19   \n",
       "1               0.0   9.065716 2017-03-29 02:10:34 2018-06-06 20:15:21   \n",
       "\n",
       "   months_on_olist  n_orders  quantity  quantity_per_order     sales  \\\n",
       "0              4.0         3         3               1.000    218.70   \n",
       "1             14.0        40        41               1.025  11703.07   \n",
       "\n",
       "   share_of_one_stars  share_of_five_stars  review_score  revenues  \n",
       "0            0.333333             0.333333          3.00   341.870  \n",
       "1            0.050000             0.725000          4.55  2290.307  "
      ]
     },
     "execution_count": 4,
     "metadata": {},
     "output_type": "execute_result"
    }
   ],
   "source": [
    "#calculate revenue per seller\n",
    "sellers['revenues'] = sellers['sales'] * 0.1 + sellers['months_on_olist'] * 80\n",
    "sellers.head(2)"
   ]
  },
  {
   "cell_type": "code",
   "execution_count": 5,
   "metadata": {
    "slideshow": {
     "slide_type": "skip"
    }
   },
   "outputs": [
    {
     "data": {
      "text/plain": [
       "dict_keys(['sellers', 'product_category_name_translation', 'orders', 'order_items', 'customers', 'geolocation', 'order_payments', 'order_reviews', 'products'])"
      ]
     },
     "execution_count": 5,
     "metadata": {},
     "output_type": "execute_result"
    }
   ],
   "source": [
    "data.keys()"
   ]
  },
  {
   "cell_type": "markdown",
   "metadata": {
    "slideshow": {
     "slide_type": "skip"
    }
   },
   "source": [
    "### Import sellers and sellers items tables"
   ]
  },
  {
   "cell_type": "code",
   "execution_count": 6,
   "metadata": {
    "slideshow": {
     "slide_type": "skip"
    }
   },
   "outputs": [],
   "source": [
    "orders_new = data['orders'].copy()\n",
    "ordersitems = data['order_items'].copy()\n",
    "orderreviews = data['order_reviews'].copy()\n"
   ]
  },
  {
   "cell_type": "markdown",
   "metadata": {
    "slideshow": {
     "slide_type": "skip"
    }
   },
   "source": [
    "### Merge table Order and Order Items"
   ]
  },
  {
   "cell_type": "code",
   "execution_count": 7,
   "metadata": {
    "slideshow": {
     "slide_type": "skip"
    }
   },
   "outputs": [
    {
     "data": {
      "text/html": [
       "<div>\n",
       "<style scoped>\n",
       "    .dataframe tbody tr th:only-of-type {\n",
       "        vertical-align: middle;\n",
       "    }\n",
       "\n",
       "    .dataframe tbody tr th {\n",
       "        vertical-align: top;\n",
       "    }\n",
       "\n",
       "    .dataframe thead th {\n",
       "        text-align: right;\n",
       "    }\n",
       "</style>\n",
       "<table border=\"1\" class=\"dataframe\">\n",
       "  <thead>\n",
       "    <tr style=\"text-align: right;\">\n",
       "      <th></th>\n",
       "      <th>order_id</th>\n",
       "      <th>customer_id</th>\n",
       "      <th>order_status</th>\n",
       "      <th>order_purchase_timestamp</th>\n",
       "      <th>order_approved_at</th>\n",
       "      <th>order_delivered_carrier_date</th>\n",
       "      <th>order_delivered_customer_date</th>\n",
       "      <th>order_estimated_delivery_date</th>\n",
       "      <th>order_item_id</th>\n",
       "      <th>product_id</th>\n",
       "      <th>seller_id</th>\n",
       "      <th>shipping_limit_date</th>\n",
       "      <th>price</th>\n",
       "      <th>freight_value</th>\n",
       "      <th>review_id</th>\n",
       "      <th>review_score</th>\n",
       "      <th>review_comment_title</th>\n",
       "      <th>review_comment_message</th>\n",
       "      <th>review_creation_date</th>\n",
       "      <th>review_answer_timestamp</th>\n",
       "    </tr>\n",
       "  </thead>\n",
       "  <tbody>\n",
       "    <tr>\n",
       "      <th>0</th>\n",
       "      <td>e481f51cbdc54678b7cc49136f2d6af7</td>\n",
       "      <td>9ef432eb6251297304e76186b10a928d</td>\n",
       "      <td>delivered</td>\n",
       "      <td>2017-10-02 10:56:33</td>\n",
       "      <td>2017-10-02 11:07:15</td>\n",
       "      <td>2017-10-04 19:55:00</td>\n",
       "      <td>2017-10-10 21:25:13</td>\n",
       "      <td>2017-10-18 00:00:00</td>\n",
       "      <td>1</td>\n",
       "      <td>87285b34884572647811a353c7ac498a</td>\n",
       "      <td>3504c0cb71d7fa48d967e0e4c94d59d9</td>\n",
       "      <td>2017-10-06 11:07:15</td>\n",
       "      <td>29.99</td>\n",
       "      <td>8.72</td>\n",
       "      <td>a54f0611adc9ed256b57ede6b6eb5114</td>\n",
       "      <td>4</td>\n",
       "      <td>NaN</td>\n",
       "      <td>Não testei o produto ainda, mas ele veio corre...</td>\n",
       "      <td>2017-10-11 00:00:00</td>\n",
       "      <td>2017-10-12 03:43:48</td>\n",
       "    </tr>\n",
       "    <tr>\n",
       "      <th>1</th>\n",
       "      <td>53cdb2fc8bc7dce0b6741e2150273451</td>\n",
       "      <td>b0830fb4747a6c6d20dea0b8c802d7ef</td>\n",
       "      <td>delivered</td>\n",
       "      <td>2018-07-24 20:41:37</td>\n",
       "      <td>2018-07-26 03:24:27</td>\n",
       "      <td>2018-07-26 14:31:00</td>\n",
       "      <td>2018-08-07 15:27:45</td>\n",
       "      <td>2018-08-13 00:00:00</td>\n",
       "      <td>1</td>\n",
       "      <td>595fac2a385ac33a80bd5114aec74eb8</td>\n",
       "      <td>289cdb325fb7e7f891c38608bf9e0962</td>\n",
       "      <td>2018-07-30 03:24:27</td>\n",
       "      <td>118.70</td>\n",
       "      <td>22.76</td>\n",
       "      <td>8d5266042046a06655c8db133d120ba5</td>\n",
       "      <td>4</td>\n",
       "      <td>Muito boa a loja</td>\n",
       "      <td>Muito bom o produto.</td>\n",
       "      <td>2018-08-08 00:00:00</td>\n",
       "      <td>2018-08-08 18:37:50</td>\n",
       "    </tr>\n",
       "  </tbody>\n",
       "</table>\n",
       "</div>"
      ],
      "text/plain": [
       "                           order_id                       customer_id  \\\n",
       "0  e481f51cbdc54678b7cc49136f2d6af7  9ef432eb6251297304e76186b10a928d   \n",
       "1  53cdb2fc8bc7dce0b6741e2150273451  b0830fb4747a6c6d20dea0b8c802d7ef   \n",
       "\n",
       "  order_status order_purchase_timestamp    order_approved_at  \\\n",
       "0    delivered      2017-10-02 10:56:33  2017-10-02 11:07:15   \n",
       "1    delivered      2018-07-24 20:41:37  2018-07-26 03:24:27   \n",
       "\n",
       "  order_delivered_carrier_date order_delivered_customer_date  \\\n",
       "0          2017-10-04 19:55:00           2017-10-10 21:25:13   \n",
       "1          2018-07-26 14:31:00           2018-08-07 15:27:45   \n",
       "\n",
       "  order_estimated_delivery_date  order_item_id  \\\n",
       "0           2017-10-18 00:00:00              1   \n",
       "1           2018-08-13 00:00:00              1   \n",
       "\n",
       "                         product_id                         seller_id  \\\n",
       "0  87285b34884572647811a353c7ac498a  3504c0cb71d7fa48d967e0e4c94d59d9   \n",
       "1  595fac2a385ac33a80bd5114aec74eb8  289cdb325fb7e7f891c38608bf9e0962   \n",
       "\n",
       "   shipping_limit_date   price  freight_value  \\\n",
       "0  2017-10-06 11:07:15   29.99           8.72   \n",
       "1  2018-07-30 03:24:27  118.70          22.76   \n",
       "\n",
       "                          review_id  review_score review_comment_title  \\\n",
       "0  a54f0611adc9ed256b57ede6b6eb5114             4                  NaN   \n",
       "1  8d5266042046a06655c8db133d120ba5             4     Muito boa a loja   \n",
       "\n",
       "                              review_comment_message review_creation_date  \\\n",
       "0  Não testei o produto ainda, mas ele veio corre...  2017-10-11 00:00:00   \n",
       "1                               Muito bom o produto.  2018-08-08 00:00:00   \n",
       "\n",
       "  review_answer_timestamp  \n",
       "0     2017-10-12 03:43:48  \n",
       "1     2018-08-08 18:37:50  "
      ]
     },
     "execution_count": 7,
     "metadata": {},
     "output_type": "execute_result"
    }
   ],
   "source": [
    "combined_table = orders_new.merge(ordersitems,on='order_id').merge(orderreviews,on='order_id')\n",
    "combined_table.head(2)"
   ]
  },
  {
   "cell_type": "markdown",
   "metadata": {
    "slideshow": {
     "slide_type": "skip"
    }
   },
   "source": [
    "### Calculate review cost per seller"
   ]
  },
  {
   "cell_type": "code",
   "execution_count": 8,
   "metadata": {
    "slideshow": {
     "slide_type": "skip"
    }
   },
   "outputs": [
    {
     "data": {
      "text/html": [
       "<div>\n",
       "<style scoped>\n",
       "    .dataframe tbody tr th:only-of-type {\n",
       "        vertical-align: middle;\n",
       "    }\n",
       "\n",
       "    .dataframe tbody tr th {\n",
       "        vertical-align: top;\n",
       "    }\n",
       "\n",
       "    .dataframe thead th {\n",
       "        text-align: right;\n",
       "    }\n",
       "</style>\n",
       "<table border=\"1\" class=\"dataframe\">\n",
       "  <thead>\n",
       "    <tr style=\"text-align: right;\">\n",
       "      <th></th>\n",
       "      <th>order_id</th>\n",
       "      <th>customer_id</th>\n",
       "      <th>order_status</th>\n",
       "      <th>order_purchase_timestamp</th>\n",
       "      <th>order_approved_at</th>\n",
       "      <th>order_delivered_carrier_date</th>\n",
       "      <th>order_delivered_customer_date</th>\n",
       "      <th>order_estimated_delivery_date</th>\n",
       "      <th>order_item_id</th>\n",
       "      <th>product_id</th>\n",
       "      <th>...</th>\n",
       "      <th>shipping_limit_date</th>\n",
       "      <th>price</th>\n",
       "      <th>freight_value</th>\n",
       "      <th>review_id</th>\n",
       "      <th>review_score</th>\n",
       "      <th>review_comment_title</th>\n",
       "      <th>review_comment_message</th>\n",
       "      <th>review_creation_date</th>\n",
       "      <th>review_answer_timestamp</th>\n",
       "      <th>cost_of_reviews</th>\n",
       "    </tr>\n",
       "  </thead>\n",
       "  <tbody>\n",
       "    <tr>\n",
       "      <th>112370</th>\n",
       "      <td>11c177c8e97725db2631073c19f07b62</td>\n",
       "      <td>b331b74b18dc79bcdf6532d51e1637c1</td>\n",
       "      <td>delivered</td>\n",
       "      <td>2018-01-08 21:28:27</td>\n",
       "      <td>2018-01-08 21:36:21</td>\n",
       "      <td>2018-01-12 15:35:03</td>\n",
       "      <td>2018-01-25 23:32:54</td>\n",
       "      <td>2018-02-15 00:00:00</td>\n",
       "      <td>2</td>\n",
       "      <td>d1c427060a0f73f6b889a5c7c61f2ac4</td>\n",
       "      <td>...</td>\n",
       "      <td>2018-01-12 21:36:21</td>\n",
       "      <td>179.99</td>\n",
       "      <td>40.59</td>\n",
       "      <td>8ab6855b9fe9b812cd03a480a25058a1</td>\n",
       "      <td>2</td>\n",
       "      <td>NaN</td>\n",
       "      <td>Foi entregue somente 1. Quero saber do outro p...</td>\n",
       "      <td>2018-01-26 00:00:00</td>\n",
       "      <td>2018-01-27 09:16:56</td>\n",
       "      <td>50</td>\n",
       "    </tr>\n",
       "    <tr>\n",
       "      <th>112371</th>\n",
       "      <td>66dea50a8b16d9b4dee7af250b4be1a5</td>\n",
       "      <td>edb027a75a1449115f6b43211ae02a24</td>\n",
       "      <td>delivered</td>\n",
       "      <td>2018-03-08 20:57:30</td>\n",
       "      <td>2018-03-09 11:20:28</td>\n",
       "      <td>2018-03-09 22:11:59</td>\n",
       "      <td>2018-03-16 13:08:30</td>\n",
       "      <td>2018-04-03 00:00:00</td>\n",
       "      <td>1</td>\n",
       "      <td>006619bbed68b000c8ba3f8725d5409e</td>\n",
       "      <td>...</td>\n",
       "      <td>2018-03-15 10:55:42</td>\n",
       "      <td>68.50</td>\n",
       "      <td>18.36</td>\n",
       "      <td>dc9c59b4688062c25758c2be4cafc523</td>\n",
       "      <td>5</td>\n",
       "      <td>NaN</td>\n",
       "      <td>NaN</td>\n",
       "      <td>2018-03-17 00:00:00</td>\n",
       "      <td>2018-03-17 16:33:31</td>\n",
       "      <td>0</td>\n",
       "    </tr>\n",
       "  </tbody>\n",
       "</table>\n",
       "<p>2 rows × 21 columns</p>\n",
       "</div>"
      ],
      "text/plain": [
       "                                order_id                       customer_id  \\\n",
       "112370  11c177c8e97725db2631073c19f07b62  b331b74b18dc79bcdf6532d51e1637c1   \n",
       "112371  66dea50a8b16d9b4dee7af250b4be1a5  edb027a75a1449115f6b43211ae02a24   \n",
       "\n",
       "       order_status order_purchase_timestamp    order_approved_at  \\\n",
       "112370    delivered      2018-01-08 21:28:27  2018-01-08 21:36:21   \n",
       "112371    delivered      2018-03-08 20:57:30  2018-03-09 11:20:28   \n",
       "\n",
       "       order_delivered_carrier_date order_delivered_customer_date  \\\n",
       "112370          2018-01-12 15:35:03           2018-01-25 23:32:54   \n",
       "112371          2018-03-09 22:11:59           2018-03-16 13:08:30   \n",
       "\n",
       "       order_estimated_delivery_date  order_item_id  \\\n",
       "112370           2018-02-15 00:00:00              2   \n",
       "112371           2018-04-03 00:00:00              1   \n",
       "\n",
       "                              product_id  ...  shipping_limit_date   price  \\\n",
       "112370  d1c427060a0f73f6b889a5c7c61f2ac4  ...  2018-01-12 21:36:21  179.99   \n",
       "112371  006619bbed68b000c8ba3f8725d5409e  ...  2018-03-15 10:55:42   68.50   \n",
       "\n",
       "        freight_value                         review_id review_score  \\\n",
       "112370          40.59  8ab6855b9fe9b812cd03a480a25058a1            2   \n",
       "112371          18.36  dc9c59b4688062c25758c2be4cafc523            5   \n",
       "\n",
       "        review_comment_title  \\\n",
       "112370                   NaN   \n",
       "112371                   NaN   \n",
       "\n",
       "                                   review_comment_message  \\\n",
       "112370  Foi entregue somente 1. Quero saber do outro p...   \n",
       "112371                                                NaN   \n",
       "\n",
       "       review_creation_date review_answer_timestamp cost_of_reviews  \n",
       "112370  2018-01-26 00:00:00     2018-01-27 09:16:56              50  \n",
       "112371  2018-03-17 00:00:00     2018-03-17 16:33:31               0  \n",
       "\n",
       "[2 rows x 21 columns]"
      ]
     },
     "execution_count": 8,
     "metadata": {},
     "output_type": "execute_result"
    }
   ],
   "source": [
    "\n",
    "cost_dict ={1: 100, 2: 50, 3: 40,4: 0, 5: 0}\n",
    "\n",
    "combined_table['cost_of_reviews'] = combined_table['review_score'].map(cost_dict)\n",
    "combined_table.tail(2)"
   ]
  },
  {
   "cell_type": "code",
   "execution_count": 9,
   "metadata": {
    "slideshow": {
     "slide_type": "skip"
    }
   },
   "outputs": [
    {
     "data": {
      "text/html": [
       "<div>\n",
       "<style scoped>\n",
       "    .dataframe tbody tr th:only-of-type {\n",
       "        vertical-align: middle;\n",
       "    }\n",
       "\n",
       "    .dataframe tbody tr th {\n",
       "        vertical-align: top;\n",
       "    }\n",
       "\n",
       "    .dataframe thead th {\n",
       "        text-align: right;\n",
       "    }\n",
       "</style>\n",
       "<table border=\"1\" class=\"dataframe\">\n",
       "  <thead>\n",
       "    <tr style=\"text-align: right;\">\n",
       "      <th></th>\n",
       "      <th>order_item_id</th>\n",
       "      <th>price</th>\n",
       "      <th>freight_value</th>\n",
       "      <th>review_score</th>\n",
       "      <th>cost_of_reviews</th>\n",
       "    </tr>\n",
       "    <tr>\n",
       "      <th>seller_id</th>\n",
       "      <th></th>\n",
       "      <th></th>\n",
       "      <th></th>\n",
       "      <th></th>\n",
       "      <th></th>\n",
       "    </tr>\n",
       "  </thead>\n",
       "  <tbody>\n",
       "    <tr>\n",
       "      <th>0015a82c2db000af6aaaf3ae2ecb0532</th>\n",
       "      <td>3</td>\n",
       "      <td>2685.00</td>\n",
       "      <td>63.06</td>\n",
       "      <td>11</td>\n",
       "      <td>100</td>\n",
       "    </tr>\n",
       "    <tr>\n",
       "      <th>001cca7ae9ae17fb1caed9dfb1094831</th>\n",
       "      <td>289</td>\n",
       "      <td>24770.03</td>\n",
       "      <td>8757.89</td>\n",
       "      <td>921</td>\n",
       "      <td>4750</td>\n",
       "    </tr>\n",
       "  </tbody>\n",
       "</table>\n",
       "</div>"
      ],
      "text/plain": [
       "                                  order_item_id     price  freight_value  \\\n",
       "seller_id                                                                  \n",
       "0015a82c2db000af6aaaf3ae2ecb0532              3   2685.00          63.06   \n",
       "001cca7ae9ae17fb1caed9dfb1094831            289  24770.03        8757.89   \n",
       "\n",
       "                                  review_score  cost_of_reviews  \n",
       "seller_id                                                        \n",
       "0015a82c2db000af6aaaf3ae2ecb0532            11              100  \n",
       "001cca7ae9ae17fb1caed9dfb1094831           921             4750  "
      ]
     },
     "execution_count": 9,
     "metadata": {},
     "output_type": "execute_result"
    }
   ],
   "source": [
    "combined_table = combined_table.groupby('seller_id').sum()\n",
    "combined_table.head(2)"
   ]
  },
  {
   "cell_type": "markdown",
   "metadata": {
    "slideshow": {
     "slide_type": "skip"
    }
   },
   "source": [
    "### Merge sellers and combined_table"
   ]
  },
  {
   "cell_type": "code",
   "execution_count": 36,
   "metadata": {
    "slideshow": {
     "slide_type": "skip"
    }
   },
   "outputs": [
    {
     "data": {
      "text/html": [
       "<div>\n",
       "<style scoped>\n",
       "    .dataframe tbody tr th:only-of-type {\n",
       "        vertical-align: middle;\n",
       "    }\n",
       "\n",
       "    .dataframe tbody tr th {\n",
       "        vertical-align: top;\n",
       "    }\n",
       "\n",
       "    .dataframe thead th {\n",
       "        text-align: right;\n",
       "    }\n",
       "</style>\n",
       "<table border=\"1\" class=\"dataframe\">\n",
       "  <thead>\n",
       "    <tr style=\"text-align: right;\">\n",
       "      <th></th>\n",
       "      <th>seller_id</th>\n",
       "      <th>seller_city</th>\n",
       "      <th>seller_state</th>\n",
       "      <th>delay_to_carrier</th>\n",
       "      <th>wait_time</th>\n",
       "      <th>date_first_sale</th>\n",
       "      <th>date_last_sale</th>\n",
       "      <th>months_on_olist</th>\n",
       "      <th>n_orders</th>\n",
       "      <th>quantity</th>\n",
       "      <th>...</th>\n",
       "      <th>sales</th>\n",
       "      <th>share_of_one_stars</th>\n",
       "      <th>share_of_five_stars</th>\n",
       "      <th>review_score_x</th>\n",
       "      <th>revenues</th>\n",
       "      <th>order_item_id</th>\n",
       "      <th>price</th>\n",
       "      <th>freight_value</th>\n",
       "      <th>review_score_y</th>\n",
       "      <th>cost_of_reviews</th>\n",
       "    </tr>\n",
       "  </thead>\n",
       "  <tbody>\n",
       "    <tr>\n",
       "      <th>0</th>\n",
       "      <td>3442f8959a84dea7ee197c632cb2df15</td>\n",
       "      <td>campinas</td>\n",
       "      <td>SP</td>\n",
       "      <td>0.000000</td>\n",
       "      <td>13.018588</td>\n",
       "      <td>2017-05-05 16:25:11</td>\n",
       "      <td>2017-08-30 12:50:19</td>\n",
       "      <td>4.0</td>\n",
       "      <td>3</td>\n",
       "      <td>3</td>\n",
       "      <td>...</td>\n",
       "      <td>218.70</td>\n",
       "      <td>0.333333</td>\n",
       "      <td>0.333333</td>\n",
       "      <td>3.00</td>\n",
       "      <td>341.870</td>\n",
       "      <td>4</td>\n",
       "      <td>218.70</td>\n",
       "      <td>27.90</td>\n",
       "      <td>9</td>\n",
       "      <td>140</td>\n",
       "    </tr>\n",
       "    <tr>\n",
       "      <th>1</th>\n",
       "      <td>d1b65fc7debc3361ea86b5f14c68d2e2</td>\n",
       "      <td>mogi guacu</td>\n",
       "      <td>SP</td>\n",
       "      <td>0.000000</td>\n",
       "      <td>9.065716</td>\n",
       "      <td>2017-03-29 02:10:34</td>\n",
       "      <td>2018-06-06 20:15:21</td>\n",
       "      <td>14.0</td>\n",
       "      <td>40</td>\n",
       "      <td>41</td>\n",
       "      <td>...</td>\n",
       "      <td>11703.07</td>\n",
       "      <td>0.050000</td>\n",
       "      <td>0.725000</td>\n",
       "      <td>4.55</td>\n",
       "      <td>2290.307</td>\n",
       "      <td>42</td>\n",
       "      <td>11703.07</td>\n",
       "      <td>1438.73</td>\n",
       "      <td>187</td>\n",
       "      <td>240</td>\n",
       "    </tr>\n",
       "    <tr>\n",
       "      <th>2</th>\n",
       "      <td>ce3ad9de960102d0677a81f5d0bb7b2d</td>\n",
       "      <td>rio de janeiro</td>\n",
       "      <td>RJ</td>\n",
       "      <td>0.000000</td>\n",
       "      <td>4.042292</td>\n",
       "      <td>2018-07-30 12:44:49</td>\n",
       "      <td>2018-07-30 12:44:49</td>\n",
       "      <td>0.0</td>\n",
       "      <td>1</td>\n",
       "      <td>1</td>\n",
       "      <td>...</td>\n",
       "      <td>158.00</td>\n",
       "      <td>0.000000</td>\n",
       "      <td>1.000000</td>\n",
       "      <td>5.00</td>\n",
       "      <td>15.800</td>\n",
       "      <td>1</td>\n",
       "      <td>158.00</td>\n",
       "      <td>16.21</td>\n",
       "      <td>5</td>\n",
       "      <td>0</td>\n",
       "    </tr>\n",
       "    <tr>\n",
       "      <th>3</th>\n",
       "      <td>c0f3eea2e14555b6faeea3dd58c1b1c3</td>\n",
       "      <td>sao paulo</td>\n",
       "      <td>SP</td>\n",
       "      <td>0.000000</td>\n",
       "      <td>5.667187</td>\n",
       "      <td>2018-08-03 00:44:08</td>\n",
       "      <td>2018-08-03 00:44:08</td>\n",
       "      <td>0.0</td>\n",
       "      <td>1</td>\n",
       "      <td>1</td>\n",
       "      <td>...</td>\n",
       "      <td>79.99</td>\n",
       "      <td>0.000000</td>\n",
       "      <td>1.000000</td>\n",
       "      <td>5.00</td>\n",
       "      <td>7.999</td>\n",
       "      <td>1</td>\n",
       "      <td>79.99</td>\n",
       "      <td>15.66</td>\n",
       "      <td>5</td>\n",
       "      <td>0</td>\n",
       "    </tr>\n",
       "    <tr>\n",
       "      <th>4</th>\n",
       "      <td>51a04a8a6bdcb23deccc82b0b80742cf</td>\n",
       "      <td>braganca paulista</td>\n",
       "      <td>SP</td>\n",
       "      <td>3.353727</td>\n",
       "      <td>35.314861</td>\n",
       "      <td>2017-11-14 12:15:25</td>\n",
       "      <td>2017-11-14 12:15:25</td>\n",
       "      <td>0.0</td>\n",
       "      <td>1</td>\n",
       "      <td>1</td>\n",
       "      <td>...</td>\n",
       "      <td>167.99</td>\n",
       "      <td>1.000000</td>\n",
       "      <td>0.000000</td>\n",
       "      <td>1.00</td>\n",
       "      <td>16.799</td>\n",
       "      <td>1</td>\n",
       "      <td>167.99</td>\n",
       "      <td>31.93</td>\n",
       "      <td>1</td>\n",
       "      <td>100</td>\n",
       "    </tr>\n",
       "  </tbody>\n",
       "</table>\n",
       "<p>5 rows × 21 columns</p>\n",
       "</div>"
      ],
      "text/plain": [
       "                          seller_id        seller_city seller_state  \\\n",
       "0  3442f8959a84dea7ee197c632cb2df15           campinas           SP   \n",
       "1  d1b65fc7debc3361ea86b5f14c68d2e2         mogi guacu           SP   \n",
       "2  ce3ad9de960102d0677a81f5d0bb7b2d     rio de janeiro           RJ   \n",
       "3  c0f3eea2e14555b6faeea3dd58c1b1c3          sao paulo           SP   \n",
       "4  51a04a8a6bdcb23deccc82b0b80742cf  braganca paulista           SP   \n",
       "\n",
       "   delay_to_carrier  wait_time     date_first_sale      date_last_sale  \\\n",
       "0          0.000000  13.018588 2017-05-05 16:25:11 2017-08-30 12:50:19   \n",
       "1          0.000000   9.065716 2017-03-29 02:10:34 2018-06-06 20:15:21   \n",
       "2          0.000000   4.042292 2018-07-30 12:44:49 2018-07-30 12:44:49   \n",
       "3          0.000000   5.667187 2018-08-03 00:44:08 2018-08-03 00:44:08   \n",
       "4          3.353727  35.314861 2017-11-14 12:15:25 2017-11-14 12:15:25   \n",
       "\n",
       "   months_on_olist  n_orders  quantity  ...     sales  share_of_one_stars  \\\n",
       "0              4.0         3         3  ...    218.70            0.333333   \n",
       "1             14.0        40        41  ...  11703.07            0.050000   \n",
       "2              0.0         1         1  ...    158.00            0.000000   \n",
       "3              0.0         1         1  ...     79.99            0.000000   \n",
       "4              0.0         1         1  ...    167.99            1.000000   \n",
       "\n",
       "   share_of_five_stars  review_score_x  revenues  order_item_id     price  \\\n",
       "0             0.333333            3.00   341.870              4    218.70   \n",
       "1             0.725000            4.55  2290.307             42  11703.07   \n",
       "2             1.000000            5.00    15.800              1    158.00   \n",
       "3             1.000000            5.00     7.999              1     79.99   \n",
       "4             0.000000            1.00    16.799              1    167.99   \n",
       "\n",
       "   freight_value  review_score_y  cost_of_reviews  \n",
       "0          27.90               9              140  \n",
       "1        1438.73             187              240  \n",
       "2          16.21               5                0  \n",
       "3          15.66               5                0  \n",
       "4          31.93               1              100  \n",
       "\n",
       "[5 rows x 21 columns]"
      ]
     },
     "execution_count": 36,
     "metadata": {},
     "output_type": "execute_result"
    }
   ],
   "source": [
    "profit = pd.merge(sellers,combined_table, left_on='seller_id', right_on='seller_id', how='left')\n",
    "profit.head()"
   ]
  },
  {
   "cell_type": "markdown",
   "metadata": {
    "slideshow": {
     "slide_type": "skip"
    }
   },
   "source": [
    "### Calculate profit column"
   ]
  },
  {
   "cell_type": "code",
   "execution_count": 37,
   "metadata": {
    "slideshow": {
     "slide_type": "skip"
    }
   },
   "outputs": [
    {
     "data": {
      "text/html": [
       "<div>\n",
       "<style scoped>\n",
       "    .dataframe tbody tr th:only-of-type {\n",
       "        vertical-align: middle;\n",
       "    }\n",
       "\n",
       "    .dataframe tbody tr th {\n",
       "        vertical-align: top;\n",
       "    }\n",
       "\n",
       "    .dataframe thead th {\n",
       "        text-align: right;\n",
       "    }\n",
       "</style>\n",
       "<table border=\"1\" class=\"dataframe\">\n",
       "  <thead>\n",
       "    <tr style=\"text-align: right;\">\n",
       "      <th></th>\n",
       "      <th>seller_id</th>\n",
       "      <th>seller_city</th>\n",
       "      <th>seller_state</th>\n",
       "      <th>delay_to_carrier</th>\n",
       "      <th>wait_time</th>\n",
       "      <th>date_first_sale</th>\n",
       "      <th>date_last_sale</th>\n",
       "      <th>months_on_olist</th>\n",
       "      <th>n_orders</th>\n",
       "      <th>quantity</th>\n",
       "      <th>...</th>\n",
       "      <th>share_of_one_stars</th>\n",
       "      <th>share_of_five_stars</th>\n",
       "      <th>review_score_x</th>\n",
       "      <th>revenues</th>\n",
       "      <th>order_item_id</th>\n",
       "      <th>price</th>\n",
       "      <th>freight_value</th>\n",
       "      <th>review_score_y</th>\n",
       "      <th>cost_of_reviews</th>\n",
       "      <th>profits</th>\n",
       "    </tr>\n",
       "  </thead>\n",
       "  <tbody>\n",
       "    <tr>\n",
       "      <th>0</th>\n",
       "      <td>3442f8959a84dea7ee197c632cb2df15</td>\n",
       "      <td>campinas</td>\n",
       "      <td>SP</td>\n",
       "      <td>0.000000</td>\n",
       "      <td>13.018588</td>\n",
       "      <td>2017-05-05 16:25:11</td>\n",
       "      <td>2017-08-30 12:50:19</td>\n",
       "      <td>4.0</td>\n",
       "      <td>3</td>\n",
       "      <td>3</td>\n",
       "      <td>...</td>\n",
       "      <td>0.333333</td>\n",
       "      <td>0.333333</td>\n",
       "      <td>3.00</td>\n",
       "      <td>341.870</td>\n",
       "      <td>4</td>\n",
       "      <td>218.70</td>\n",
       "      <td>27.90</td>\n",
       "      <td>9</td>\n",
       "      <td>140</td>\n",
       "      <td>201.870</td>\n",
       "    </tr>\n",
       "    <tr>\n",
       "      <th>1</th>\n",
       "      <td>d1b65fc7debc3361ea86b5f14c68d2e2</td>\n",
       "      <td>mogi guacu</td>\n",
       "      <td>SP</td>\n",
       "      <td>0.000000</td>\n",
       "      <td>9.065716</td>\n",
       "      <td>2017-03-29 02:10:34</td>\n",
       "      <td>2018-06-06 20:15:21</td>\n",
       "      <td>14.0</td>\n",
       "      <td>40</td>\n",
       "      <td>41</td>\n",
       "      <td>...</td>\n",
       "      <td>0.050000</td>\n",
       "      <td>0.725000</td>\n",
       "      <td>4.55</td>\n",
       "      <td>2290.307</td>\n",
       "      <td>42</td>\n",
       "      <td>11703.07</td>\n",
       "      <td>1438.73</td>\n",
       "      <td>187</td>\n",
       "      <td>240</td>\n",
       "      <td>2050.307</td>\n",
       "    </tr>\n",
       "    <tr>\n",
       "      <th>2</th>\n",
       "      <td>ce3ad9de960102d0677a81f5d0bb7b2d</td>\n",
       "      <td>rio de janeiro</td>\n",
       "      <td>RJ</td>\n",
       "      <td>0.000000</td>\n",
       "      <td>4.042292</td>\n",
       "      <td>2018-07-30 12:44:49</td>\n",
       "      <td>2018-07-30 12:44:49</td>\n",
       "      <td>0.0</td>\n",
       "      <td>1</td>\n",
       "      <td>1</td>\n",
       "      <td>...</td>\n",
       "      <td>0.000000</td>\n",
       "      <td>1.000000</td>\n",
       "      <td>5.00</td>\n",
       "      <td>15.800</td>\n",
       "      <td>1</td>\n",
       "      <td>158.00</td>\n",
       "      <td>16.21</td>\n",
       "      <td>5</td>\n",
       "      <td>0</td>\n",
       "      <td>15.800</td>\n",
       "    </tr>\n",
       "    <tr>\n",
       "      <th>3</th>\n",
       "      <td>c0f3eea2e14555b6faeea3dd58c1b1c3</td>\n",
       "      <td>sao paulo</td>\n",
       "      <td>SP</td>\n",
       "      <td>0.000000</td>\n",
       "      <td>5.667187</td>\n",
       "      <td>2018-08-03 00:44:08</td>\n",
       "      <td>2018-08-03 00:44:08</td>\n",
       "      <td>0.0</td>\n",
       "      <td>1</td>\n",
       "      <td>1</td>\n",
       "      <td>...</td>\n",
       "      <td>0.000000</td>\n",
       "      <td>1.000000</td>\n",
       "      <td>5.00</td>\n",
       "      <td>7.999</td>\n",
       "      <td>1</td>\n",
       "      <td>79.99</td>\n",
       "      <td>15.66</td>\n",
       "      <td>5</td>\n",
       "      <td>0</td>\n",
       "      <td>7.999</td>\n",
       "    </tr>\n",
       "    <tr>\n",
       "      <th>4</th>\n",
       "      <td>51a04a8a6bdcb23deccc82b0b80742cf</td>\n",
       "      <td>braganca paulista</td>\n",
       "      <td>SP</td>\n",
       "      <td>3.353727</td>\n",
       "      <td>35.314861</td>\n",
       "      <td>2017-11-14 12:15:25</td>\n",
       "      <td>2017-11-14 12:15:25</td>\n",
       "      <td>0.0</td>\n",
       "      <td>1</td>\n",
       "      <td>1</td>\n",
       "      <td>...</td>\n",
       "      <td>1.000000</td>\n",
       "      <td>0.000000</td>\n",
       "      <td>1.00</td>\n",
       "      <td>16.799</td>\n",
       "      <td>1</td>\n",
       "      <td>167.99</td>\n",
       "      <td>31.93</td>\n",
       "      <td>1</td>\n",
       "      <td>100</td>\n",
       "      <td>-83.201</td>\n",
       "    </tr>\n",
       "  </tbody>\n",
       "</table>\n",
       "<p>5 rows × 22 columns</p>\n",
       "</div>"
      ],
      "text/plain": [
       "                          seller_id        seller_city seller_state  \\\n",
       "0  3442f8959a84dea7ee197c632cb2df15           campinas           SP   \n",
       "1  d1b65fc7debc3361ea86b5f14c68d2e2         mogi guacu           SP   \n",
       "2  ce3ad9de960102d0677a81f5d0bb7b2d     rio de janeiro           RJ   \n",
       "3  c0f3eea2e14555b6faeea3dd58c1b1c3          sao paulo           SP   \n",
       "4  51a04a8a6bdcb23deccc82b0b80742cf  braganca paulista           SP   \n",
       "\n",
       "   delay_to_carrier  wait_time     date_first_sale      date_last_sale  \\\n",
       "0          0.000000  13.018588 2017-05-05 16:25:11 2017-08-30 12:50:19   \n",
       "1          0.000000   9.065716 2017-03-29 02:10:34 2018-06-06 20:15:21   \n",
       "2          0.000000   4.042292 2018-07-30 12:44:49 2018-07-30 12:44:49   \n",
       "3          0.000000   5.667187 2018-08-03 00:44:08 2018-08-03 00:44:08   \n",
       "4          3.353727  35.314861 2017-11-14 12:15:25 2017-11-14 12:15:25   \n",
       "\n",
       "   months_on_olist  n_orders  quantity  ...  share_of_one_stars  \\\n",
       "0              4.0         3         3  ...            0.333333   \n",
       "1             14.0        40        41  ...            0.050000   \n",
       "2              0.0         1         1  ...            0.000000   \n",
       "3              0.0         1         1  ...            0.000000   \n",
       "4              0.0         1         1  ...            1.000000   \n",
       "\n",
       "   share_of_five_stars  review_score_x  revenues  order_item_id     price  \\\n",
       "0             0.333333            3.00   341.870              4    218.70   \n",
       "1             0.725000            4.55  2290.307             42  11703.07   \n",
       "2             1.000000            5.00    15.800              1    158.00   \n",
       "3             1.000000            5.00     7.999              1     79.99   \n",
       "4             0.000000            1.00    16.799              1    167.99   \n",
       "\n",
       "   freight_value  review_score_y  cost_of_reviews   profits  \n",
       "0          27.90               9              140   201.870  \n",
       "1        1438.73             187              240  2050.307  \n",
       "2          16.21               5                0    15.800  \n",
       "3          15.66               5                0     7.999  \n",
       "4          31.93               1              100   -83.201  \n",
       "\n",
       "[5 rows x 22 columns]"
      ]
     },
     "execution_count": 37,
     "metadata": {},
     "output_type": "execute_result"
    }
   ],
   "source": [
    "profit[\"profits\"] = profit[\"revenues\"] - profit[\"cost_of_reviews\"]\n",
    "profit.head()\n"
   ]
  },
  {
   "cell_type": "markdown",
   "metadata": {
    "slideshow": {
     "slide_type": "subslide"
    }
   },
   "source": [
    "# How could Olist increase its profit?"
   ]
  },
  {
   "cell_type": "markdown",
   "metadata": {
    "slideshow": {
     "slide_type": "subslide"
    }
   },
   "source": [
    "## Snapshot of current company PL in BRL"
   ]
  },
  {
   "cell_type": "markdown",
   "metadata": {
    "slideshow": {
     "slide_type": "skip"
    }
   },
   "source": [
    "Where are we?"
   ]
  },
  {
   "cell_type": "code",
   "execution_count": 105,
   "metadata": {
    "slideshow": {
     "slide_type": "fragment"
    },
    "tags": [
     "remove_input"
    ]
   },
   "outputs": [
    {
     "data": {
      "text/html": [
       "<div>\n",
       "<style scoped>\n",
       "    .dataframe tbody tr th:only-of-type {\n",
       "        vertical-align: middle;\n",
       "    }\n",
       "\n",
       "    .dataframe tbody tr th {\n",
       "        vertical-align: top;\n",
       "    }\n",
       "\n",
       "    .dataframe thead th {\n",
       "        text-align: right;\n",
       "    }\n",
       "</style>\n",
       "<table border=\"1\" class=\"dataframe\">\n",
       "  <thead>\n",
       "    <tr style=\"text-align: right;\">\n",
       "      <th></th>\n",
       "      <th>+</th>\n",
       "      <th>-</th>\n",
       "    </tr>\n",
       "  </thead>\n",
       "  <tbody>\n",
       "    <tr>\n",
       "      <th>Revenue (Sales and Subscription)</th>\n",
       "      <td>2785818</td>\n",
       "      <td>0</td>\n",
       "    </tr>\n",
       "    <tr>\n",
       "      <th>Reputation Cost (Review Score)</th>\n",
       "      <td></td>\n",
       "      <td>1976650</td>\n",
       "    </tr>\n",
       "    <tr>\n",
       "      <th>IT Cost (Fixed and Variable)</th>\n",
       "      <td></td>\n",
       "      <td>999999</td>\n",
       "    </tr>\n",
       "    <tr>\n",
       "      <th>Total Cost</th>\n",
       "      <td></td>\n",
       "      <td>2976649</td>\n",
       "    </tr>\n",
       "    <tr>\n",
       "      <th>Net Profit (Revenue - Total Cost)</th>\n",
       "      <td></td>\n",
       "      <td>-190831</td>\n",
       "    </tr>\n",
       "    <tr>\n",
       "      <th>Profit Margin</th>\n",
       "      <td></td>\n",
       "      <td>-7%</td>\n",
       "    </tr>\n",
       "  </tbody>\n",
       "</table>\n",
       "</div>"
      ],
      "text/plain": [
       "                                         +        -\n",
       "Revenue (Sales and Subscription)   2785818        0\n",
       "Reputation Cost (Review Score)              1976650\n",
       "IT Cost (Fixed and Variable)                 999999\n",
       "Total Cost                                  2976649\n",
       "Net Profit (Revenue - Total Cost)           -190831\n",
       "Profit Margin                                   -7%"
      ]
     },
     "execution_count": 105,
     "metadata": {},
     "output_type": "execute_result"
    }
   ],
   "source": [
    "\n",
    "\n",
    "\n",
    "def it_cost():\n",
    "#     print(\"It cost:\")\n",
    "    return round((3157.27 * math.sqrt(profit.seller_id.count())) + (978.23 * math.sqrt(profit.quantity.sum())) + 500000)\n",
    "\n",
    "def review_cost():\n",
    "#     print(\"Review cost\")\n",
    "    return profit.cost_of_reviews.sum()\n",
    "\n",
    "def total_cost():\n",
    "#     print(\"Total cost\")\n",
    "    return round((3157.27 * math.sqrt(profit.seller_id.count())) + (978.23 * math.sqrt(profit.quantity.sum())) + 500000) + profit.cost_of_reviews.sum()\n",
    "\n",
    "def revenue():\n",
    "#     print(\"Revenue\")\n",
    "    return round(profit.revenues.sum())\n",
    "\n",
    "def net_profit():\n",
    "#     print(\"Profit\")\n",
    "    \n",
    "    rev = round(profit.revenues.sum())\n",
    "    cos = round((3157.27 * math.sqrt(profit.seller_id.count())) + (978.23 * math.sqrt(profit.quantity.sum())) + 500000) + profit.cost_of_reviews.sum()\n",
    "    \n",
    "    return (rev - cos)\n",
    "    \n",
    "\n",
    "\n",
    "def profit_margin():\n",
    "#     print(\"Profit_margin\")\n",
    "    \n",
    "    rev = round(profit.revenues.sum())\n",
    "    cos = round((3157.27 * math.sqrt(profit.seller_id.count())) + (978.23 * math.sqrt(profit.quantity.sum())) + 500000) + profit.cost_of_reviews.sum()\n",
    "    \n",
    "    return \"{:.0%}\".format((rev - cos) / rev)\n",
    "\n",
    "\n",
    "# print(it_cost())\n",
    "# print(review_cost())\n",
    "# print(total_cost())\n",
    "# print(revenue())\n",
    "# print(net_profit())\n",
    "# print(profit_margin())\n",
    "\n",
    "f'{review_cost():,}' \n",
    "\n",
    "data = [[revenue(), 0], ['', review_cost()], ['', it_cost()], ['', total_cost()] , ['', net_profit()], ['', profit_margin()]]\n",
    "  \n",
    "# Create the pandas DataFrame\n",
    "df = pd.DataFrame(data, columns=['+', '-'])\n",
    "  \n",
    "# print dataframe.\n",
    "df\n",
    "\n",
    "df_new = df.rename(columns={'A': 'Col_1'}, index={0: 'Revenue (Sales and Subscription)', 1: \"Reputation Cost (Review Score)\", 2: \"IT Cost (Fixed and Variable)\", 3: \"Total Cost\", 4: \"Net Profit (Revenue - Total Cost)\", 5: \"Profit Margin\"})\n",
    "df_new\n"
   ]
  },
  {
   "cell_type": "code",
   "execution_count": 67,
   "metadata": {
    "slideshow": {
     "slide_type": "skip"
    }
   },
   "outputs": [
    {
     "data": {
      "text/html": [
       "<div>\n",
       "<style scoped>\n",
       "    .dataframe tbody tr th:only-of-type {\n",
       "        vertical-align: middle;\n",
       "    }\n",
       "\n",
       "    .dataframe tbody tr th {\n",
       "        vertical-align: top;\n",
       "    }\n",
       "\n",
       "    .dataframe thead th {\n",
       "        text-align: right;\n",
       "    }\n",
       "</style>\n",
       "<table border=\"1\" class=\"dataframe\">\n",
       "  <thead>\n",
       "    <tr style=\"text-align: right;\">\n",
       "      <th></th>\n",
       "      <th>seller_id</th>\n",
       "      <th>seller_city</th>\n",
       "      <th>seller_state</th>\n",
       "      <th>delay_to_carrier</th>\n",
       "      <th>wait_time</th>\n",
       "      <th>date_first_sale</th>\n",
       "      <th>date_last_sale</th>\n",
       "      <th>months_on_olist</th>\n",
       "      <th>n_orders</th>\n",
       "      <th>quantity</th>\n",
       "      <th>...</th>\n",
       "      <th>share_of_one_stars</th>\n",
       "      <th>share_of_five_stars</th>\n",
       "      <th>review_score_x</th>\n",
       "      <th>revenues</th>\n",
       "      <th>order_item_id</th>\n",
       "      <th>price</th>\n",
       "      <th>freight_value</th>\n",
       "      <th>review_score_y</th>\n",
       "      <th>cost_of_reviews</th>\n",
       "      <th>profits</th>\n",
       "    </tr>\n",
       "  </thead>\n",
       "  <tbody>\n",
       "    <tr>\n",
       "      <th>769</th>\n",
       "      <td>6560211a19b47992c3666cc44a7e94c0</td>\n",
       "      <td>sao paulo</td>\n",
       "      <td>SP</td>\n",
       "      <td>0.0</td>\n",
       "      <td>9.539486</td>\n",
       "      <td>2017-02-17 07:45:11</td>\n",
       "      <td>2018-08-29 09:25:12</td>\n",
       "      <td>18.0</td>\n",
       "      <td>1854</td>\n",
       "      <td>2033</td>\n",
       "      <td>...</td>\n",
       "      <td>0.124729</td>\n",
       "      <td>0.514100</td>\n",
       "      <td>3.937093</td>\n",
       "      <td>13770.483</td>\n",
       "      <td>2244</td>\n",
       "      <td>122484.82</td>\n",
       "      <td>27826.47</td>\n",
       "      <td>7897</td>\n",
       "      <td>40120</td>\n",
       "      <td>-26349.517</td>\n",
       "    </tr>\n",
       "    <tr>\n",
       "      <th>453</th>\n",
       "      <td>1f50f920176fa81dab994f9023523100</td>\n",
       "      <td>sao jose do rio preto</td>\n",
       "      <td>SP</td>\n",
       "      <td>0.0</td>\n",
       "      <td>15.571831</td>\n",
       "      <td>2017-04-03 22:15:14</td>\n",
       "      <td>2018-08-28 03:45:18</td>\n",
       "      <td>17.0</td>\n",
       "      <td>1404</td>\n",
       "      <td>1931</td>\n",
       "      <td>...</td>\n",
       "      <td>0.112536</td>\n",
       "      <td>0.600427</td>\n",
       "      <td>4.130342</td>\n",
       "      <td>12053.921</td>\n",
       "      <td>2902</td>\n",
       "      <td>107002.21</td>\n",
       "      <td>35152.96</td>\n",
       "      <td>7694</td>\n",
       "      <td>37490</td>\n",
       "      <td>-25436.079</td>\n",
       "    </tr>\n",
       "  </tbody>\n",
       "</table>\n",
       "<p>2 rows × 22 columns</p>\n",
       "</div>"
      ],
      "text/plain": [
       "                            seller_id            seller_city seller_state  \\\n",
       "769  6560211a19b47992c3666cc44a7e94c0              sao paulo           SP   \n",
       "453  1f50f920176fa81dab994f9023523100  sao jose do rio preto           SP   \n",
       "\n",
       "     delay_to_carrier  wait_time     date_first_sale      date_last_sale  \\\n",
       "769               0.0   9.539486 2017-02-17 07:45:11 2018-08-29 09:25:12   \n",
       "453               0.0  15.571831 2017-04-03 22:15:14 2018-08-28 03:45:18   \n",
       "\n",
       "     months_on_olist  n_orders  quantity  ...  share_of_one_stars  \\\n",
       "769             18.0      1854      2033  ...            0.124729   \n",
       "453             17.0      1404      1931  ...            0.112536   \n",
       "\n",
       "     share_of_five_stars  review_score_x   revenues  order_item_id      price  \\\n",
       "769             0.514100        3.937093  13770.483           2244  122484.82   \n",
       "453             0.600427        4.130342  12053.921           2902  107002.21   \n",
       "\n",
       "     freight_value  review_score_y  cost_of_reviews    profits  \n",
       "769       27826.47            7897            40120 -26349.517  \n",
       "453       35152.96            7694            37490 -25436.079  \n",
       "\n",
       "[2 rows x 22 columns]"
      ]
     },
     "execution_count": 67,
     "metadata": {},
     "output_type": "execute_result"
    }
   ],
   "source": [
    "profit = profit.sort_values(['profits'], ascending= True)\n",
    "profit.head(2)"
   ]
  },
  {
   "cell_type": "markdown",
   "metadata": {
    "slideshow": {
     "slide_type": "subslide"
    }
   },
   "source": [
    "## Recalculation of  profit and margin by removing sellers "
   ]
  },
  {
   "cell_type": "markdown",
   "metadata": {
    "slideshow": {
     "slide_type": "subslide"
    }
   },
   "source": [
    "Lets remove  sellers one by one starting from the least profitable and see what happens to company profit and margins"
   ]
  },
  {
   "cell_type": "code",
   "execution_count": 81,
   "metadata": {
    "slideshow": {
     "slide_type": "skip"
    },
    "tags": [
     "remove_input"
    ]
   },
   "outputs": [
    {
     "name": "stderr",
     "output_type": "stream",
     "text": [
      "/var/folders/kg/6qqrzjg91x5d3tq16qx18m2w0000gn/T/ipykernel_33512/1479610633.py:33: SettingWithCopyWarning: \n",
      "A value is trying to be set on a copy of a slice from a DataFrame.\n",
      "Try using .loc[row_indexer,col_indexer] = value instead\n",
      "\n",
      "See the caveats in the documentation: https://pandas.pydata.org/pandas-docs/stable/user_guide/indexing.html#returning-a-view-versus-a-copy\n",
      "  finaldf['max_margin_line'] = max_margin()\n",
      "/var/folders/kg/6qqrzjg91x5d3tq16qx18m2w0000gn/T/ipykernel_33512/1479610633.py:34: SettingWithCopyWarning: \n",
      "A value is trying to be set on a copy of a slice from a DataFrame.\n",
      "Try using .loc[row_indexer,col_indexer] = value instead\n",
      "\n",
      "See the caveats in the documentation: https://pandas.pydata.org/pandas-docs/stable/user_guide/indexing.html#returning-a-view-versus-a-copy\n",
      "  finaldf['max_profit_line'] = max_profit()\n"
     ]
    },
    {
     "data": {
      "text/plain": [
       "max_margin_line    1313\n",
       "dtype: int64"
      ]
     },
     "execution_count": 81,
     "metadata": {},
     "output_type": "execute_result"
    }
   ],
   "source": [
    "finaldf = profit [[\"seller_id\", \"quantity\", \"revenues\",\"cost_of_reviews\",\"profits\"]]\n",
    "finaldf.reset_index(drop = True, inplace=True)\n",
    "finaldf\n",
    "\n",
    "def max_profit():\n",
    "    profit_list = []\n",
    "\n",
    "    for i in range(0,len(finaldf)):\n",
    "\n",
    "        rev = round(finaldf.iloc[i:,:].revenues.sum())\n",
    "        cos = round((3157.27 * math.sqrt(finaldf.iloc[i:,:].seller_id.count())) + (978.23 * math.sqrt(finaldf.iloc[i:,:].quantity.sum())) + 500000) + finaldf.iloc[i:,:].cost_of_reviews.sum()\n",
    "\n",
    "        profit_list.append(rev - cos)\n",
    "        \n",
    "    return profit_list\n",
    "\n",
    "def max_margin():\n",
    "    margin_list = []\n",
    "\n",
    "    for i in range(0,len(finaldf)):\n",
    "\n",
    "        rev = round(finaldf.iloc[i:,:].revenues.sum())\n",
    "        cos = round((3157.27 * math.sqrt(finaldf.iloc[i:,:].seller_id.count())) + (978.23 * math.sqrt(finaldf.iloc[i:,:].quantity.sum())) + 500000) + finaldf.iloc[i:,:].cost_of_reviews.sum()\n",
    "\n",
    "        margin_list.append(((rev - cos) / rev))\n",
    "        \n",
    "    return margin_list\n",
    "\n",
    "# len(max_margin())\n",
    "\n",
    "#         margin_list.append(\"{:.2%}\".format((rev - cos) / rev))\n",
    "\n",
    "finaldf['max_margin_line'] = max_margin()\n",
    "finaldf['max_profit_line'] = max_profit()\n",
    "finaldf[['max_margin_line']].idxmax()"
   ]
  },
  {
   "cell_type": "code",
   "execution_count": null,
   "metadata": {
    "slideshow": {
     "slide_type": "skip"
    }
   },
   "outputs": [],
   "source": [
    "sns.lineplot(data=finaldf[\"max_profit_line\"])\n"
   ]
  },
  {
   "cell_type": "markdown",
   "metadata": {
    "slideshow": {
     "slide_type": "subslide"
    }
   },
   "source": [
    " ## Our findings in a graph\n",
    " \n",
    " We call our new profit and margin hypothetical profit and margin"
   ]
  },
  {
   "cell_type": "code",
   "execution_count": 196,
   "metadata": {
    "slideshow": {
     "slide_type": "fragment"
    },
    "tags": [
     "remove_input"
    ]
   },
   "outputs": [
    {
     "data": {
      "image/png": "[encoded data removed]",
      "text/plain": [
       "<Figure size 2000x1000 with 1 Axes>"
      ]
     },
     "metadata": {},
     "output_type": "display_data"
    }
   ],
   "source": [
    "from mpl_toolkits.axes_grid1 import host_subplot\n",
    "from mpl_toolkits import axisartist\n",
    "import matplotlib.pyplot as plt\n",
    "\n",
    "host = host_subplot(111, axes_class=axisartist.Axes)\n",
    "plt.subplots_adjust(right=0.75)\n",
    "plt.rcParams[\"figure.figsize\"] = (20, 10) # update\n",
    "\n",
    "\n",
    "par1 = host.twinx()\n",
    "par2 = host.twinx()\n",
    "\n",
    "# par2.axis[\"right\"] = par2.new_fixed_axis(loc=\"right\", offset=(60, 0))\n",
    "\n",
    "par1.axis[\"right\"].toggle(all=True)\n",
    "# par2.axis[\"right\"].toggle(all=True)\n",
    "\n",
    "p1, = host.plot(range(0,2967), finaldf[\"max_profit_line\"], label=\"Hypothetical Profit\")\n",
    "p2, = par1.plot(range(0,2967), finaldf[\"max_margin_line\"], label=\"Hypothetical Margin\")\n",
    "# p3, = par2.plot([0, 1, 2], [50, 30, 15], label=\"Velocity\")\n",
    "\n",
    "\n",
    "host.set_xlim(0, 2967)\n",
    "host.set_ylim(-50000, 500000)\n",
    "par1.set_ylim(-0.3, 0.3)\n",
    "# par2.set_ylim(1, 500000)\n",
    "\n",
    "host.set_xlabel(\"No of Sellers removed: Starting from least profitable\")\n",
    "host.set_ylabel(\"Hypothetical Profit\")\n",
    "par1.set_ylabel(\"Hypothetical Margin\")\n",
    "# par2.set_ylabel(\"Velocity\")\n",
    "\n",
    "host.legend()\n",
    "\n",
    "host.axis[\"left\"].label.set_color(p1.get_color())\n",
    "par1.axis[\"right\"].label.set_color(p2.get_color())\n",
    "# par2.axis[\"right\"].label.set_color(p3.get_color())\n",
    "\n",
    "\n",
    "plt.axvline(x = 955, color = 'r',linestyle='dashed')\n",
    "plt.axvline(x = 1313, color = 'm',linestyle='dashed')\n",
    "plt.axvline(x = 300, color = 'g',linestyle='dashed')\n",
    "\n",
    "plt.text(x = 500, y =300000, s= 'Maximum profit @ seller 955 and maximum margin @ seller 1313', fontsize = 15, color = \"r\")\n",
    "plt.text(x = 100, y =150000, s= 'Profit and Margin plateaus around @ seller 300', fontsize = 15, color = \"g\" )\n",
    "\n",
    "\n",
    "plt.grid(True)\n",
    "plt.show()"
   ]
  },
  {
   "cell_type": "markdown",
   "metadata": {
    "slideshow": {
     "slide_type": "subslide"
    }
   },
   "source": [
    "Findings:\n",
    "\n",
    "1 ) We reach maximum profit when we stop working with least profitable 955 sellers.\n",
    "\n",
    "\n",
    "2 ) We reach maximum profit margin when we stop working with least profitable 1313 sellers.\n",
    "\n",
    "\n",
    "Suggestions:\n",
    "\n",
    "1 ) Conservative approach: stop working with least profitable 300 sellers or find ways to penalize them with additional costs. Keep other sellers as we may find ways to profit from them. Also we don't want to decrease order volume.\n",
    "\n",
    "2 ) Between seller 955 and 1313 revenues drop faster than profit which increases profit margins\n"
   ]
  },
  {
   "cell_type": "markdown",
   "metadata": {
    "slideshow": {
     "slide_type": "subslide"
    }
   },
   "source": [
    " ## Properties of sellers (Worst 300 versus Best 300)"
   ]
  },
  {
   "cell_type": "code",
   "execution_count": 226,
   "metadata": {
    "slideshow": {
     "slide_type": "fragment"
    },
    "tags": [
     "remove_input"
    ]
   },
   "outputs": [
    {
     "name": "stderr",
     "output_type": "stream",
     "text": [
      "/var/folders/kg/6qqrzjg91x5d3tq16qx18m2w0000gn/T/ipykernel_33512/3543090869.py:2: FutureWarning: Dropping of nuisance columns in DataFrame reductions (with 'numeric_only=None') is deprecated; in a future version this will raise TypeError.  Select only valid columns before calling the reduction.\n",
      "  badsellers.head(300).mean()\n"
     ]
    },
    {
     "data": {
      "text/plain": [
       "wait_time            14.429755\n",
       "months_on_olist       8.723333\n",
       "review_score_x        3.437748\n",
       "freight_value      3050.976000\n",
       "profits           -1739.931723\n",
       "dtype: float64"
      ]
     },
     "execution_count": 226,
     "metadata": {},
     "output_type": "execute_result"
    }
   ],
   "source": [
    "badsellers = profit [[\"seller_id\", \"seller_city\", \"wait_time\",\"months_on_olist\",\"review_score_x\" ,'freight_value','profits']]\n",
    "badsellers.head(300).mean()"
   ]
  },
  {
   "cell_type": "code",
   "execution_count": 227,
   "metadata": {
    "slideshow": {
     "slide_type": "fragment"
    },
    "tags": [
     "remove_input"
    ]
   },
   "outputs": [
    {
     "name": "stderr",
     "output_type": "stream",
     "text": [
      "/var/folders/kg/6qqrzjg91x5d3tq16qx18m2w0000gn/T/ipykernel_33512/2688783044.py:1: FutureWarning: Dropping of nuisance columns in DataFrame reductions (with 'numeric_only=None') is deprecated; in a future version this will raise TypeError.  Select only valid columns before calling the reduction.\n",
      "  badsellers.tail(300).mean()\n"
     ]
    },
    {
     "data": {
      "text/plain": [
       "wait_time            12.726909\n",
       "months_on_olist      14.786667\n",
       "review_score_x        4.218829\n",
       "freight_value      1809.979367\n",
       "profits            2040.269977\n",
       "dtype: float64"
      ]
     },
     "execution_count": 227,
     "metadata": {},
     "output_type": "execute_result"
    }
   ],
   "source": [
    "badsellers.tail(300).mean()"
   ]
  },
  {
   "cell_type": "markdown",
   "metadata": {
    "slideshow": {
     "slide_type": "subslide"
    }
   },
   "source": [
    "Findings:\n",
    "\n",
    "1 ) Bad sellers have longer average wait time.\n",
    "\n",
    "2 ) Bad sellers are recently listed on Olist compared to best sellers.\n",
    "\n",
    "3 ) Bad sellers have lower average review score\n",
    "\n",
    "4 ) Average freight value tends to be higher for bad sellers.\n",
    "\n",
    "\n",
    "Suggestions:\n",
    "\n",
    "1 ) Introduce additional fee based on wait time to penalize bad sellers.\n",
    "\n",
    "2 ) Be more selective with new listings.\n",
    "\n",
    "3 ) Introduce additional fee based on review score to penalize bad sellers.\n",
    "\n",
    " "
   ]
  },
  {
   "cell_type": "markdown",
   "metadata": {
    "slideshow": {
     "slide_type": "subslide"
    }
   },
   "source": [
    "### Worst 300 sellers by their location"
   ]
  },
  {
   "cell_type": "code",
   "execution_count": 250,
   "metadata": {
    "slideshow": {
     "slide_type": "fragment"
    },
    "tags": [
     "remove_input"
    ]
   },
   "outputs": [
    {
     "data": {
      "image/png": "[encoded data removed]",
      "text/plain": [
       "<Figure size 2000x1000 with 1 Axes>"
      ]
     },
     "metadata": {},
     "output_type": "display_data"
    }
   ],
   "source": [
    "# # df = badsellers.head(500).groupby(['seller_city']).count() \n",
    "# df = badsellers.tail(500).sort_values(['profits'], ascending= True)\n",
    "\n",
    "# sns.countplot(y='seller_city', data=df)\n",
    "\n",
    "import string\n",
    "\n",
    "l = list(badsellers.head(300)['seller_city'])\n",
    "n = np.random.rand(len(l))\n",
    "a = np.random.choice(l, p=n/n.sum(),size=400)\n",
    "\n",
    "s = pd.Series(a)\n",
    "s.value_counts()[:15].plot(kind=\"bar\")\n",
    "\n",
    "plt.show()\n"
   ]
  },
  {
   "cell_type": "markdown",
   "metadata": {
    "slideshow": {
     "slide_type": "subslide"
    }
   },
   "source": [
    "It may be a good idea to be very selective with sellers from Sao Paulo and Ibitinga. Together they consist around half of all bad sellers."
   ]
  },
  {
   "cell_type": "markdown",
   "metadata": {
    "slideshow": {
     "slide_type": "subslide"
    }
   },
   "source": [
    "## Impact of dropping 300 sellers on order volume"
   ]
  },
  {
   "cell_type": "code",
   "execution_count": 221,
   "metadata": {
    "slideshow": {
     "slide_type": "subslide"
    },
    "tags": [
     "remove_input"
    ]
   },
   "outputs": [
    {
     "data": {
      "text/plain": [
       "seller_id    6560211a19b47992c3666cc44a7e94c01f50f920176fa8...\n",
       "n_orders                                                 44407\n",
       "quantity                                                 51672\n",
       "profits                                            -521979.517\n",
       "dtype: object"
      ]
     },
     "execution_count": 221,
     "metadata": {},
     "output_type": "execute_result"
    }
   ],
   "source": [
    "impact = profit [[\"seller_id\", \"n_orders\", \"quantity\",'profits']]\n",
    "impact.head(300).sum()"
   ]
  },
  {
   "cell_type": "code",
   "execution_count": 246,
   "metadata": {
    "slideshow": {
     "slide_type": "fragment"
    },
    "tags": [
     "remove_input"
    ]
   },
   "outputs": [
    {
     "data": {
      "text/plain": [
       "<AxesSubplot:xlabel='seller_id', ylabel='n_orders'>"
      ]
     },
     "execution_count": 246,
     "metadata": {},
     "output_type": "execute_result"
    },
    {
     "data": {
      "image/png": "[encoded data removed]",
      "text/plain": [
       "<Figure size 2000x1000 with 1 Axes>"
      ]
     },
     "metadata": {},
     "output_type": "display_data"
    }
   ],
   "source": [
    "sns.scatterplot(data=impact.head(300), x='seller_id', y='n_orders',hue='n_orders')"
   ]
  },
  {
   "cell_type": "markdown",
   "metadata": {
    "slideshow": {
     "slide_type": "subslide"
    }
   },
   "source": [
    "Finding: \n",
    "\n",
    "Worst sellers have higher order volume.\n",
    "\n",
    "Order volume impact will be higher at first when removing bad sellers. \n",
    "\n",
    "Suggestion :\n",
    "\n",
    "Start with worst customers and make reassesments along the way. Data will change by time."
   ]
  },
  {
   "cell_type": "markdown",
   "metadata": {
    "slideshow": {
     "slide_type": "subslide"
    }
   },
   "source": [
    "### Good luck to the CEO :) End of presentation."
   ]
  },
  {
   "cell_type": "code",
   "execution_count": null,
   "metadata": {
    "slideshow": {
     "slide_type": "skip"
    }
   },
   "outputs": [],
   "source": []
  }
 ],
 "metadata": {
  "celltoolbar": "Slideshow",
  "kernelspec": {
   "display_name": "Python 3 (ipykernel)",
   "language": "python",
   "name": "python3"
  },
  "language_info": {
   "codemirror_mode": {
    "name": "ipython",
    "version": 3
   },
   "file_extension": ".py",
   "mimetype": "text/x-python",
   "name": "python",
   "nbconvert_exporter": "python",
   "pygments_lexer": "ipython3",
   "version": "3.10.6"
  },
  "toc": {
   "base_numbering": 1,
   "nav_menu": {},
   "number_sections": true,
   "sideBar": true,
   "skip_h1_title": false,
   "title_cell": "Table of Contents",
   "title_sidebar": "Contents",
   "toc_cell": false,
   "toc_position": {},
   "toc_section_display": true,
   "toc_window_display": false
  }
 },
 "nbformat": 4,
 "nbformat_minor": 4
}
